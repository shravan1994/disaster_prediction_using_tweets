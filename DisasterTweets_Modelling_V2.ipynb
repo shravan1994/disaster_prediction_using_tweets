{
  "nbformat": 4,
  "nbformat_minor": 0,
  "metadata": {
    "colab": {
      "name": "DisasterTweets_Modelling-V2.ipynb",
      "provenance": [],
      "collapsed_sections": [
        "WI9T5VE7l_yg",
        "6DkMRPORzr05",
        "NzCQYniIyXss",
        "BD4Kb2qS30I_",
        "7c-eNY8Zd3Si"
      ],
      "authorship_tag": "ABX9TyPP4D/kl5d7T5fxBqIkwcSI",
      "include_colab_link": true
    },
    "kernelspec": {
      "name": "python3",
      "display_name": "Python 3"
    },
    "language_info": {
      "name": "python"
    },
    "accelerator": "GPU",
    "gpuClass": "standard"
  },
  "cells": [
    {
      "cell_type": "markdown",
      "metadata": {
        "id": "view-in-github",
        "colab_type": "text"
      },
      "source": [
        "<a href=\"https://colab.research.google.com/github/shravan1994/disaster_prediction_using_tweets/blob/main/DisasterTweets_Modelling_V2.ipynb\" target=\"_parent\"><img src=\"https://colab.research.google.com/assets/colab-badge.svg\" alt=\"Open In Colab\"/></a>"
      ]
    },
    {
      "cell_type": "code",
      "execution_count": 29,
      "metadata": {
        "id": "FywQCdFzZljk",
        "colab": {
          "base_uri": "https://localhost:8080/"
        },
        "outputId": "3ca28ef8-15d2-4a57-d610-a36bae73c7b3"
      },
      "outputs": [
        {
          "output_type": "stream",
          "name": "stdout",
          "text": [
            "Drive already mounted at /content/drive; to attempt to forcibly remount, call drive.mount(\"/content/drive\", force_remount=True).\n",
            "Warning: Your Kaggle API key is readable by other users on this system! To fix this, you can run 'chmod 600 ./kaggle.json'\n",
            "nlp-getting-started.zip: Skipping, found more recently modified local copy (use --force to force download)\n",
            "Archive:  nlp-getting-started.zip\n",
            "replace data/sample_submission.csv? [y]es, [n]o, [A]ll, [N]one, [r]ename: "
          ]
        }
      ],
      "source": [
        "import warnings\n",
        "warnings.filterwarnings('ignore')\n",
        "\n",
        "if __name__ == '__main__':\n",
        "  from google.colab import drive\n",
        "  drive.mount('/content/drive')\n",
        "\n",
        "if __name__ == '__main__':\n",
        "  import os\n",
        "  os.environ['KAGGLE_CONFIG_DIR'] = \".\"\n",
        "\n",
        "  !kaggle competitions download -c nlp-getting-started\n",
        "  !unzip nlp-getting-started.zip -d 'data'"
      ]
    },
    {
      "cell_type": "code",
      "source": [
        "!pip install contractions\n",
        "!pip install -q -U \"tensorflow-text==2.8.*\"\n",
        "!pip install bert-tensorflow"
      ],
      "metadata": {
        "colab": {
          "base_uri": "https://localhost:8080/"
        },
        "id": "A3QADjPD0l35",
        "outputId": "e7b85f40-e00d-40f1-bffa-956152ea2530"
      },
      "execution_count": 30,
      "outputs": [
        {
          "output_type": "stream",
          "name": "stdout",
          "text": [
            "Looking in indexes: https://pypi.org/simple, https://us-python.pkg.dev/colab-wheels/public/simple/\n",
            "Requirement already satisfied: contractions in /usr/local/lib/python3.7/dist-packages (0.1.72)\n",
            "Requirement already satisfied: textsearch>=0.0.21 in /usr/local/lib/python3.7/dist-packages (from contractions) (0.0.21)\n",
            "Requirement already satisfied: pyahocorasick in /usr/local/lib/python3.7/dist-packages (from textsearch>=0.0.21->contractions) (1.4.4)\n",
            "Requirement already satisfied: anyascii in /usr/local/lib/python3.7/dist-packages (from textsearch>=0.0.21->contractions) (0.3.1)\n",
            "Looking in indexes: https://pypi.org/simple, https://us-python.pkg.dev/colab-wheels/public/simple/\n",
            "Requirement already satisfied: bert-tensorflow in /usr/local/lib/python3.7/dist-packages (1.0.4)\n",
            "Requirement already satisfied: six in /usr/local/lib/python3.7/dist-packages (from bert-tensorflow) (1.15.0)\n"
          ]
        }
      ]
    },
    {
      "cell_type": "code",
      "source": [
        "import pandas as pd\n",
        "import numpy as np\n",
        "import matplotlib.pyplot as plt\n",
        "import urllib\n",
        "import seaborn as sns\n",
        "import tensorflow as tf\n",
        "from tensorflow.keras.layers import Input, Dropout, Dense, Embedding, Conv1D, MaxPool1D, Flatten\n",
        "from tensorflow.keras import Model\n",
        "from bert.tokenization import FullTokenizer\n",
        "from tensorflow.keras.callbacks import Callback\n",
        "import urllib\n",
        "from sklearn.preprocessing import LabelEncoder\n",
        "from scipy.sparse import hstack"
      ],
      "metadata": {
        "id": "E-shVt4mZ3_K"
      },
      "execution_count": 31,
      "outputs": []
    },
    {
      "cell_type": "code",
      "source": [
        "train_df = pd.read_csv('data/train.csv')\n",
        "test_df =  pd.read_csv('data/test.csv')\n",
        "train_df.head()"
      ],
      "metadata": {
        "colab": {
          "base_uri": "https://localhost:8080/",
          "height": 206
        },
        "id": "qt9h1ObGZ5fF",
        "outputId": "8236d002-0aee-4c15-b55a-4a32321702ea"
      },
      "execution_count": 32,
      "outputs": [
        {
          "output_type": "execute_result",
          "data": {
            "text/plain": [
              "   id keyword location                                               text  \\\n",
              "0   1     NaN      NaN  Our Deeds are the Reason of this #earthquake M...   \n",
              "1   4     NaN      NaN             Forest fire near La Ronge Sask. Canada   \n",
              "2   5     NaN      NaN  All residents asked to 'shelter in place' are ...   \n",
              "3   6     NaN      NaN  13,000 people receive #wildfires evacuation or...   \n",
              "4   7     NaN      NaN  Just got sent this photo from Ruby #Alaska as ...   \n",
              "\n",
              "   target  \n",
              "0       1  \n",
              "1       1  \n",
              "2       1  \n",
              "3       1  \n",
              "4       1  "
            ],
            "text/html": [
              "\n",
              "  <div id=\"df-462af242-b1f5-4cc7-98f0-b09f737ad2ee\">\n",
              "    <div class=\"colab-df-container\">\n",
              "      <div>\n",
              "<style scoped>\n",
              "    .dataframe tbody tr th:only-of-type {\n",
              "        vertical-align: middle;\n",
              "    }\n",
              "\n",
              "    .dataframe tbody tr th {\n",
              "        vertical-align: top;\n",
              "    }\n",
              "\n",
              "    .dataframe thead th {\n",
              "        text-align: right;\n",
              "    }\n",
              "</style>\n",
              "<table border=\"1\" class=\"dataframe\">\n",
              "  <thead>\n",
              "    <tr style=\"text-align: right;\">\n",
              "      <th></th>\n",
              "      <th>id</th>\n",
              "      <th>keyword</th>\n",
              "      <th>location</th>\n",
              "      <th>text</th>\n",
              "      <th>target</th>\n",
              "    </tr>\n",
              "  </thead>\n",
              "  <tbody>\n",
              "    <tr>\n",
              "      <th>0</th>\n",
              "      <td>1</td>\n",
              "      <td>NaN</td>\n",
              "      <td>NaN</td>\n",
              "      <td>Our Deeds are the Reason of this #earthquake M...</td>\n",
              "      <td>1</td>\n",
              "    </tr>\n",
              "    <tr>\n",
              "      <th>1</th>\n",
              "      <td>4</td>\n",
              "      <td>NaN</td>\n",
              "      <td>NaN</td>\n",
              "      <td>Forest fire near La Ronge Sask. Canada</td>\n",
              "      <td>1</td>\n",
              "    </tr>\n",
              "    <tr>\n",
              "      <th>2</th>\n",
              "      <td>5</td>\n",
              "      <td>NaN</td>\n",
              "      <td>NaN</td>\n",
              "      <td>All residents asked to 'shelter in place' are ...</td>\n",
              "      <td>1</td>\n",
              "    </tr>\n",
              "    <tr>\n",
              "      <th>3</th>\n",
              "      <td>6</td>\n",
              "      <td>NaN</td>\n",
              "      <td>NaN</td>\n",
              "      <td>13,000 people receive #wildfires evacuation or...</td>\n",
              "      <td>1</td>\n",
              "    </tr>\n",
              "    <tr>\n",
              "      <th>4</th>\n",
              "      <td>7</td>\n",
              "      <td>NaN</td>\n",
              "      <td>NaN</td>\n",
              "      <td>Just got sent this photo from Ruby #Alaska as ...</td>\n",
              "      <td>1</td>\n",
              "    </tr>\n",
              "  </tbody>\n",
              "</table>\n",
              "</div>\n",
              "      <button class=\"colab-df-convert\" onclick=\"convertToInteractive('df-462af242-b1f5-4cc7-98f0-b09f737ad2ee')\"\n",
              "              title=\"Convert this dataframe to an interactive table.\"\n",
              "              style=\"display:none;\">\n",
              "        \n",
              "  <svg xmlns=\"http://www.w3.org/2000/svg\" height=\"24px\"viewBox=\"0 0 24 24\"\n",
              "       width=\"24px\">\n",
              "    <path d=\"M0 0h24v24H0V0z\" fill=\"none\"/>\n",
              "    <path d=\"M18.56 5.44l.94 2.06.94-2.06 2.06-.94-2.06-.94-.94-2.06-.94 2.06-2.06.94zm-11 1L8.5 8.5l.94-2.06 2.06-.94-2.06-.94L8.5 2.5l-.94 2.06-2.06.94zm10 10l.94 2.06.94-2.06 2.06-.94-2.06-.94-.94-2.06-.94 2.06-2.06.94z\"/><path d=\"M17.41 7.96l-1.37-1.37c-.4-.4-.92-.59-1.43-.59-.52 0-1.04.2-1.43.59L10.3 9.45l-7.72 7.72c-.78.78-.78 2.05 0 2.83L4 21.41c.39.39.9.59 1.41.59.51 0 1.02-.2 1.41-.59l7.78-7.78 2.81-2.81c.8-.78.8-2.07 0-2.86zM5.41 20L4 18.59l7.72-7.72 1.47 1.35L5.41 20z\"/>\n",
              "  </svg>\n",
              "      </button>\n",
              "      \n",
              "  <style>\n",
              "    .colab-df-container {\n",
              "      display:flex;\n",
              "      flex-wrap:wrap;\n",
              "      gap: 12px;\n",
              "    }\n",
              "\n",
              "    .colab-df-convert {\n",
              "      background-color: #E8F0FE;\n",
              "      border: none;\n",
              "      border-radius: 50%;\n",
              "      cursor: pointer;\n",
              "      display: none;\n",
              "      fill: #1967D2;\n",
              "      height: 32px;\n",
              "      padding: 0 0 0 0;\n",
              "      width: 32px;\n",
              "    }\n",
              "\n",
              "    .colab-df-convert:hover {\n",
              "      background-color: #E2EBFA;\n",
              "      box-shadow: 0px 1px 2px rgba(60, 64, 67, 0.3), 0px 1px 3px 1px rgba(60, 64, 67, 0.15);\n",
              "      fill: #174EA6;\n",
              "    }\n",
              "\n",
              "    [theme=dark] .colab-df-convert {\n",
              "      background-color: #3B4455;\n",
              "      fill: #D2E3FC;\n",
              "    }\n",
              "\n",
              "    [theme=dark] .colab-df-convert:hover {\n",
              "      background-color: #434B5C;\n",
              "      box-shadow: 0px 1px 3px 1px rgba(0, 0, 0, 0.15);\n",
              "      filter: drop-shadow(0px 1px 2px rgba(0, 0, 0, 0.3));\n",
              "      fill: #FFFFFF;\n",
              "    }\n",
              "  </style>\n",
              "\n",
              "      <script>\n",
              "        const buttonEl =\n",
              "          document.querySelector('#df-462af242-b1f5-4cc7-98f0-b09f737ad2ee button.colab-df-convert');\n",
              "        buttonEl.style.display =\n",
              "          google.colab.kernel.accessAllowed ? 'block' : 'none';\n",
              "\n",
              "        async function convertToInteractive(key) {\n",
              "          const element = document.querySelector('#df-462af242-b1f5-4cc7-98f0-b09f737ad2ee');\n",
              "          const dataTable =\n",
              "            await google.colab.kernel.invokeFunction('convertToInteractive',\n",
              "                                                     [key], {});\n",
              "          if (!dataTable) return;\n",
              "\n",
              "          const docLinkHtml = 'Like what you see? Visit the ' +\n",
              "            '<a target=\"_blank\" href=https://colab.research.google.com/notebooks/data_table.ipynb>data table notebook</a>'\n",
              "            + ' to learn more about interactive tables.';\n",
              "          element.innerHTML = '';\n",
              "          dataTable['output_type'] = 'display_data';\n",
              "          await google.colab.output.renderOutput(dataTable, element);\n",
              "          const docLink = document.createElement('div');\n",
              "          docLink.innerHTML = docLinkHtml;\n",
              "          element.appendChild(docLink);\n",
              "        }\n",
              "      </script>\n",
              "    </div>\n",
              "  </div>\n",
              "  "
            ]
          },
          "metadata": {},
          "execution_count": 32
        }
      ]
    },
    {
      "cell_type": "code",
      "source": [
        "test_df.head()"
      ],
      "metadata": {
        "colab": {
          "base_uri": "https://localhost:8080/",
          "height": 206
        },
        "id": "3dqNgniPaY42",
        "outputId": "54a3df83-2fbc-4a6d-8a72-672ed091e636"
      },
      "execution_count": 33,
      "outputs": [
        {
          "output_type": "execute_result",
          "data": {
            "text/plain": [
              "   id keyword location                                               text\n",
              "0   0     NaN      NaN                 Just happened a terrible car crash\n",
              "1   2     NaN      NaN  Heard about #earthquake is different cities, s...\n",
              "2   3     NaN      NaN  there is a forest fire at spot pond, geese are...\n",
              "3   9     NaN      NaN           Apocalypse lighting. #Spokane #wildfires\n",
              "4  11     NaN      NaN      Typhoon Soudelor kills 28 in China and Taiwan"
            ],
            "text/html": [
              "\n",
              "  <div id=\"df-1c6f85d6-a980-40aa-9b8f-27f82c77beef\">\n",
              "    <div class=\"colab-df-container\">\n",
              "      <div>\n",
              "<style scoped>\n",
              "    .dataframe tbody tr th:only-of-type {\n",
              "        vertical-align: middle;\n",
              "    }\n",
              "\n",
              "    .dataframe tbody tr th {\n",
              "        vertical-align: top;\n",
              "    }\n",
              "\n",
              "    .dataframe thead th {\n",
              "        text-align: right;\n",
              "    }\n",
              "</style>\n",
              "<table border=\"1\" class=\"dataframe\">\n",
              "  <thead>\n",
              "    <tr style=\"text-align: right;\">\n",
              "      <th></th>\n",
              "      <th>id</th>\n",
              "      <th>keyword</th>\n",
              "      <th>location</th>\n",
              "      <th>text</th>\n",
              "    </tr>\n",
              "  </thead>\n",
              "  <tbody>\n",
              "    <tr>\n",
              "      <th>0</th>\n",
              "      <td>0</td>\n",
              "      <td>NaN</td>\n",
              "      <td>NaN</td>\n",
              "      <td>Just happened a terrible car crash</td>\n",
              "    </tr>\n",
              "    <tr>\n",
              "      <th>1</th>\n",
              "      <td>2</td>\n",
              "      <td>NaN</td>\n",
              "      <td>NaN</td>\n",
              "      <td>Heard about #earthquake is different cities, s...</td>\n",
              "    </tr>\n",
              "    <tr>\n",
              "      <th>2</th>\n",
              "      <td>3</td>\n",
              "      <td>NaN</td>\n",
              "      <td>NaN</td>\n",
              "      <td>there is a forest fire at spot pond, geese are...</td>\n",
              "    </tr>\n",
              "    <tr>\n",
              "      <th>3</th>\n",
              "      <td>9</td>\n",
              "      <td>NaN</td>\n",
              "      <td>NaN</td>\n",
              "      <td>Apocalypse lighting. #Spokane #wildfires</td>\n",
              "    </tr>\n",
              "    <tr>\n",
              "      <th>4</th>\n",
              "      <td>11</td>\n",
              "      <td>NaN</td>\n",
              "      <td>NaN</td>\n",
              "      <td>Typhoon Soudelor kills 28 in China and Taiwan</td>\n",
              "    </tr>\n",
              "  </tbody>\n",
              "</table>\n",
              "</div>\n",
              "      <button class=\"colab-df-convert\" onclick=\"convertToInteractive('df-1c6f85d6-a980-40aa-9b8f-27f82c77beef')\"\n",
              "              title=\"Convert this dataframe to an interactive table.\"\n",
              "              style=\"display:none;\">\n",
              "        \n",
              "  <svg xmlns=\"http://www.w3.org/2000/svg\" height=\"24px\"viewBox=\"0 0 24 24\"\n",
              "       width=\"24px\">\n",
              "    <path d=\"M0 0h24v24H0V0z\" fill=\"none\"/>\n",
              "    <path d=\"M18.56 5.44l.94 2.06.94-2.06 2.06-.94-2.06-.94-.94-2.06-.94 2.06-2.06.94zm-11 1L8.5 8.5l.94-2.06 2.06-.94-2.06-.94L8.5 2.5l-.94 2.06-2.06.94zm10 10l.94 2.06.94-2.06 2.06-.94-2.06-.94-.94-2.06-.94 2.06-2.06.94z\"/><path d=\"M17.41 7.96l-1.37-1.37c-.4-.4-.92-.59-1.43-.59-.52 0-1.04.2-1.43.59L10.3 9.45l-7.72 7.72c-.78.78-.78 2.05 0 2.83L4 21.41c.39.39.9.59 1.41.59.51 0 1.02-.2 1.41-.59l7.78-7.78 2.81-2.81c.8-.78.8-2.07 0-2.86zM5.41 20L4 18.59l7.72-7.72 1.47 1.35L5.41 20z\"/>\n",
              "  </svg>\n",
              "      </button>\n",
              "      \n",
              "  <style>\n",
              "    .colab-df-container {\n",
              "      display:flex;\n",
              "      flex-wrap:wrap;\n",
              "      gap: 12px;\n",
              "    }\n",
              "\n",
              "    .colab-df-convert {\n",
              "      background-color: #E8F0FE;\n",
              "      border: none;\n",
              "      border-radius: 50%;\n",
              "      cursor: pointer;\n",
              "      display: none;\n",
              "      fill: #1967D2;\n",
              "      height: 32px;\n",
              "      padding: 0 0 0 0;\n",
              "      width: 32px;\n",
              "    }\n",
              "\n",
              "    .colab-df-convert:hover {\n",
              "      background-color: #E2EBFA;\n",
              "      box-shadow: 0px 1px 2px rgba(60, 64, 67, 0.3), 0px 1px 3px 1px rgba(60, 64, 67, 0.15);\n",
              "      fill: #174EA6;\n",
              "    }\n",
              "\n",
              "    [theme=dark] .colab-df-convert {\n",
              "      background-color: #3B4455;\n",
              "      fill: #D2E3FC;\n",
              "    }\n",
              "\n",
              "    [theme=dark] .colab-df-convert:hover {\n",
              "      background-color: #434B5C;\n",
              "      box-shadow: 0px 1px 3px 1px rgba(0, 0, 0, 0.15);\n",
              "      filter: drop-shadow(0px 1px 2px rgba(0, 0, 0, 0.3));\n",
              "      fill: #FFFFFF;\n",
              "    }\n",
              "  </style>\n",
              "\n",
              "      <script>\n",
              "        const buttonEl =\n",
              "          document.querySelector('#df-1c6f85d6-a980-40aa-9b8f-27f82c77beef button.colab-df-convert');\n",
              "        buttonEl.style.display =\n",
              "          google.colab.kernel.accessAllowed ? 'block' : 'none';\n",
              "\n",
              "        async function convertToInteractive(key) {\n",
              "          const element = document.querySelector('#df-1c6f85d6-a980-40aa-9b8f-27f82c77beef');\n",
              "          const dataTable =\n",
              "            await google.colab.kernel.invokeFunction('convertToInteractive',\n",
              "                                                     [key], {});\n",
              "          if (!dataTable) return;\n",
              "\n",
              "          const docLinkHtml = 'Like what you see? Visit the ' +\n",
              "            '<a target=\"_blank\" href=https://colab.research.google.com/notebooks/data_table.ipynb>data table notebook</a>'\n",
              "            + ' to learn more about interactive tables.';\n",
              "          element.innerHTML = '';\n",
              "          dataTable['output_type'] = 'display_data';\n",
              "          await google.colab.output.renderOutput(dataTable, element);\n",
              "          const docLink = document.createElement('div');\n",
              "          docLink.innerHTML = docLinkHtml;\n",
              "          element.appendChild(docLink);\n",
              "        }\n",
              "      </script>\n",
              "    </div>\n",
              "  </div>\n",
              "  "
            ]
          },
          "metadata": {},
          "execution_count": 33
        }
      ]
    },
    {
      "cell_type": "markdown",
      "source": [
        "## Lets clear the duplicate tweets and manually table the miss-labelled tweets "
      ],
      "metadata": {
        "id": "DDQfVWBsfWNL"
      }
    },
    {
      "cell_type": "code",
      "source": [
        "train_df = pd.read_csv('data/train.csv')\n",
        "print('Length of train df before removing duplicates', len(train_df))\n",
        "\n",
        "duplicated_df = train_df.groupby(['text', 'keyword']).agg(\n",
        "    target_list=('target', list),\n",
        "    target_count=('target', len)\n",
        ").reset_index()\n",
        "\n",
        "duplicated_df = duplicated_df[duplicated_df['target_count'] > 1].copy()\n",
        "\n",
        "train_df = train_df[~train_df['text'].isin(duplicated_df['text'])].copy()\n",
        "print('Length of train df after removing duplicated', len(train_df))"
      ],
      "metadata": {
        "colab": {
          "base_uri": "https://localhost:8080/"
        },
        "id": "FK7TwPjSffpU",
        "outputId": "556acfe4-3eed-49d3-9960-f7eb7e2623fe"
      },
      "execution_count": 34,
      "outputs": [
        {
          "output_type": "stream",
          "name": "stdout",
          "text": [
            "Length of train df before removing duplicates 7613\n",
            "Length of train df after removing duplicated 7480\n"
          ]
        }
      ]
    },
    {
      "cell_type": "markdown",
      "source": [
        "**Re-labelling the tweets manually**"
      ],
      "metadata": {
        "id": "gwcaRRGHhmwU"
      }
    },
    {
      "cell_type": "code",
      "source": [
        "duplicated_df[['target_list', 'target_count']] = duplicated_df['target_list'].apply(\n",
        "    lambda x: pd.Series([x[0] if len(set(x)) == 1 else x, len(set(x))])\n",
        "    )\n",
        "parsed_tweets_df = duplicated_df[duplicated_df['target_count'] == 1]\n",
        "parsed_tweets_df = parsed_tweets_df.rename(columns={'target_list': 'target'}).drop('target_count', axis=1)\n",
        "parsed_tweets_df.head()"
      ],
      "metadata": {
        "colab": {
          "base_uri": "https://localhost:8080/",
          "height": 206
        },
        "id": "H1NZ70vLhmS0",
        "outputId": "c93ed05c-db74-44ee-d61a-8bf22dff41b8"
      },
      "execution_count": 35,
      "outputs": [
        {
          "output_type": "execute_result",
          "data": {
            "text/plain": [
              "                                                  text         keyword target\n",
              "44   #Bestnaijamade: 16yr old PKK suicide bomber wh...  suicide%20bomb      1\n",
              "113  #KCA #VoteJKT48ID 12News: UPDATE: A family of ...       displaced      1\n",
              "139  #Myanmar  Displaced #Rohingya at #Sittwe point...       displaced      1\n",
              "155  #Newswatch: 2 vehicles collided at Lock and La...        collided      1\n",
              "205  #SigAlert: North &amp; Southbound 133 closed b...    fire%20truck      1"
            ],
            "text/html": [
              "\n",
              "  <div id=\"df-33d868af-f211-46ad-906f-07b4524f7dbd\">\n",
              "    <div class=\"colab-df-container\">\n",
              "      <div>\n",
              "<style scoped>\n",
              "    .dataframe tbody tr th:only-of-type {\n",
              "        vertical-align: middle;\n",
              "    }\n",
              "\n",
              "    .dataframe tbody tr th {\n",
              "        vertical-align: top;\n",
              "    }\n",
              "\n",
              "    .dataframe thead th {\n",
              "        text-align: right;\n",
              "    }\n",
              "</style>\n",
              "<table border=\"1\" class=\"dataframe\">\n",
              "  <thead>\n",
              "    <tr style=\"text-align: right;\">\n",
              "      <th></th>\n",
              "      <th>text</th>\n",
              "      <th>keyword</th>\n",
              "      <th>target</th>\n",
              "    </tr>\n",
              "  </thead>\n",
              "  <tbody>\n",
              "    <tr>\n",
              "      <th>44</th>\n",
              "      <td>#Bestnaijamade: 16yr old PKK suicide bomber wh...</td>\n",
              "      <td>suicide%20bomb</td>\n",
              "      <td>1</td>\n",
              "    </tr>\n",
              "    <tr>\n",
              "      <th>113</th>\n",
              "      <td>#KCA #VoteJKT48ID 12News: UPDATE: A family of ...</td>\n",
              "      <td>displaced</td>\n",
              "      <td>1</td>\n",
              "    </tr>\n",
              "    <tr>\n",
              "      <th>139</th>\n",
              "      <td>#Myanmar  Displaced #Rohingya at #Sittwe point...</td>\n",
              "      <td>displaced</td>\n",
              "      <td>1</td>\n",
              "    </tr>\n",
              "    <tr>\n",
              "      <th>155</th>\n",
              "      <td>#Newswatch: 2 vehicles collided at Lock and La...</td>\n",
              "      <td>collided</td>\n",
              "      <td>1</td>\n",
              "    </tr>\n",
              "    <tr>\n",
              "      <th>205</th>\n",
              "      <td>#SigAlert: North &amp;amp; Southbound 133 closed b...</td>\n",
              "      <td>fire%20truck</td>\n",
              "      <td>1</td>\n",
              "    </tr>\n",
              "  </tbody>\n",
              "</table>\n",
              "</div>\n",
              "      <button class=\"colab-df-convert\" onclick=\"convertToInteractive('df-33d868af-f211-46ad-906f-07b4524f7dbd')\"\n",
              "              title=\"Convert this dataframe to an interactive table.\"\n",
              "              style=\"display:none;\">\n",
              "        \n",
              "  <svg xmlns=\"http://www.w3.org/2000/svg\" height=\"24px\"viewBox=\"0 0 24 24\"\n",
              "       width=\"24px\">\n",
              "    <path d=\"M0 0h24v24H0V0z\" fill=\"none\"/>\n",
              "    <path d=\"M18.56 5.44l.94 2.06.94-2.06 2.06-.94-2.06-.94-.94-2.06-.94 2.06-2.06.94zm-11 1L8.5 8.5l.94-2.06 2.06-.94-2.06-.94L8.5 2.5l-.94 2.06-2.06.94zm10 10l.94 2.06.94-2.06 2.06-.94-2.06-.94-.94-2.06-.94 2.06-2.06.94z\"/><path d=\"M17.41 7.96l-1.37-1.37c-.4-.4-.92-.59-1.43-.59-.52 0-1.04.2-1.43.59L10.3 9.45l-7.72 7.72c-.78.78-.78 2.05 0 2.83L4 21.41c.39.39.9.59 1.41.59.51 0 1.02-.2 1.41-.59l7.78-7.78 2.81-2.81c.8-.78.8-2.07 0-2.86zM5.41 20L4 18.59l7.72-7.72 1.47 1.35L5.41 20z\"/>\n",
              "  </svg>\n",
              "      </button>\n",
              "      \n",
              "  <style>\n",
              "    .colab-df-container {\n",
              "      display:flex;\n",
              "      flex-wrap:wrap;\n",
              "      gap: 12px;\n",
              "    }\n",
              "\n",
              "    .colab-df-convert {\n",
              "      background-color: #E8F0FE;\n",
              "      border: none;\n",
              "      border-radius: 50%;\n",
              "      cursor: pointer;\n",
              "      display: none;\n",
              "      fill: #1967D2;\n",
              "      height: 32px;\n",
              "      padding: 0 0 0 0;\n",
              "      width: 32px;\n",
              "    }\n",
              "\n",
              "    .colab-df-convert:hover {\n",
              "      background-color: #E2EBFA;\n",
              "      box-shadow: 0px 1px 2px rgba(60, 64, 67, 0.3), 0px 1px 3px 1px rgba(60, 64, 67, 0.15);\n",
              "      fill: #174EA6;\n",
              "    }\n",
              "\n",
              "    [theme=dark] .colab-df-convert {\n",
              "      background-color: #3B4455;\n",
              "      fill: #D2E3FC;\n",
              "    }\n",
              "\n",
              "    [theme=dark] .colab-df-convert:hover {\n",
              "      background-color: #434B5C;\n",
              "      box-shadow: 0px 1px 3px 1px rgba(0, 0, 0, 0.15);\n",
              "      filter: drop-shadow(0px 1px 2px rgba(0, 0, 0, 0.3));\n",
              "      fill: #FFFFFF;\n",
              "    }\n",
              "  </style>\n",
              "\n",
              "      <script>\n",
              "        const buttonEl =\n",
              "          document.querySelector('#df-33d868af-f211-46ad-906f-07b4524f7dbd button.colab-df-convert');\n",
              "        buttonEl.style.display =\n",
              "          google.colab.kernel.accessAllowed ? 'block' : 'none';\n",
              "\n",
              "        async function convertToInteractive(key) {\n",
              "          const element = document.querySelector('#df-33d868af-f211-46ad-906f-07b4524f7dbd');\n",
              "          const dataTable =\n",
              "            await google.colab.kernel.invokeFunction('convertToInteractive',\n",
              "                                                     [key], {});\n",
              "          if (!dataTable) return;\n",
              "\n",
              "          const docLinkHtml = 'Like what you see? Visit the ' +\n",
              "            '<a target=\"_blank\" href=https://colab.research.google.com/notebooks/data_table.ipynb>data table notebook</a>'\n",
              "            + ' to learn more about interactive tables.';\n",
              "          element.innerHTML = '';\n",
              "          dataTable['output_type'] = 'display_data';\n",
              "          await google.colab.output.renderOutput(dataTable, element);\n",
              "          const docLink = document.createElement('div');\n",
              "          docLink.innerHTML = docLinkHtml;\n",
              "          element.appendChild(docLink);\n",
              "        }\n",
              "      </script>\n",
              "    </div>\n",
              "  </div>\n",
              "  "
            ]
          },
          "metadata": {},
          "execution_count": 35
        }
      ]
    },
    {
      "cell_type": "code",
      "source": [
        "relabelled_tweets_df = duplicated_df[duplicated_df['target_count'] > 1]\n",
        "print(len(relabelled_tweets_df['text'].tolist()))\n",
        "\n",
        "print(relabelled_tweets_df['text'].tolist())"
      ],
      "metadata": {
        "colab": {
          "base_uri": "https://localhost:8080/"
        },
        "id": "P-DTIQNQj4J4",
        "outputId": "b54c6eaa-e570-4122-c1fb-09186515a35d"
      },
      "execution_count": 36,
      "outputs": [
        {
          "output_type": "stream",
          "name": "stdout",
          "text": [
            "15\n",
            "['#Allah describes piling up #wealth thinking it would last #forever as the description of the people of #Hellfire in Surah Humaza. #Reflect', '#foodscare #offers2go #NestleIndia slips into loss after #Magginoodle #ban unsafe and hazardous for #humanconsumption', '.POTUS #StrategicPatience is a strategy for #Genocide; refugees; IDP Internally displaced people; horror; etc. https://t.co/rqWuoy1fm4', 'CLEARED:incident with injury:I-495  inner loop Exit 31 - MD 97/Georgia Ave Silver Spring', 'Caution: breathing may be hazardous to your health.', 'He came to a land which was engulfed in tribal war and turned it into a land of peace i.e. Madinah. #ProphetMuhammad #islam', 'Hellfire is surrounded by desires so be careful and don\\x89Ûªt let your desires control you! #Afterlife', 'Hellfire! We don\\x89Ûªt even want to think about it or mention it so let\\x89Ûªs not do anything that leads to it #islam!', 'In #islam saving a person is equal in reward to saving all humans! Islam is the opposite of terrorism!', 'RT NotExplained: The only known image of infamous hijacker D.B. Cooper. http://t.co/JlzK2HdeTG', \"The Prophet (peace be upon him) said 'Save yourself from Hellfire even if it is by giving half a date in charity.'\", 'To fight bioterrorism sir.', 'Who is bringing the tornadoes and floods. Who is bringing the climate change. God is after America He is plaguing her\\n \\n#FARRAKHAN #QUOTE', 'that horrible sinking feeling when you\\x89Ûªve been at home on your phone for a while and you realise its been on 3G this whole time', 'wowo--=== 12000 Nigerian refugees repatriated from Cameroon']\n"
          ]
        }
      ]
    },
    {
      "cell_type": "code",
      "source": [
        "manually_labelled = {\n",
        "\"#Allah describes piling up #wealth thinking it would last #forever as the description of the people of #Hellfire in Surah Humaza. #Reflect\": 0, \n",
        "\"#foodscare #offers2go #NestleIndia slips into loss after #Magginoodle #ban unsafe and hazardous for #humanconsumption\": 0,\n",
        "\".POTUS #StrategicPatience is a strategy for #Genocide; refugees; IDP Internally displaced people; horror; etc. https://t.co/rqWuoy1fm4\": 0,\n",
        "\"CLEARED:incident with injury:I-495  inner loop Exit 31 - MD 97/Georgia Ave Silver Spring\": 1,\n",
        "\"Caution: breathing may be hazardous to your health.\": 1,\n",
        "\"He came to a land which was engulfed in tribal war and turned it into a land of peace i.e. Madinah. #ProphetMuhammad #islam\": 0,\n",
        "\"Hellfire is surrounded by desires so be careful and don\\x89Ûªt let your desires control you! #Afterlife\": 0,\n",
        "\"Hellfire! We don\\x89Ûªt even want to think about it or mention it so let\\x89Ûªs not do anything that leads to it #islam!\": 0,\n",
        "\"In #islam saving a person is equal in reward to saving all humans! Islam is the opposite of terrorism!\": 0,\n",
        "\"RT NotExplained: The only known image of infamous hijacker D.B. Cooper. http://t.co/JlzK2HdeTG\": 0,\n",
        "\"The Prophet (peace be upon him) said 'Save yourself from Hellfire even if it is by giving half a date in charity.'\": 0,\n",
        "\"To fight bioterrorism sir.\": 0, \n",
        "\"Who is bringing the tornadoes and floods. Who is bringing the climate change. God is after America He is plaguing her\\n \\n#FARRAKHAN #QUOTE\": 0,\n",
        "\"that horrible sinking feeling when you\\x89Ûªve been at home on your phone for a while and you realise its been on 3G this whole time\": 0,\n",
        "\"wowo--=== 12000 Nigerian refugees repatriated from Cameroon\": 0\n",
        "}"
      ],
      "metadata": {
        "id": "GJZRddJvmUAW"
      },
      "execution_count": 37,
      "outputs": []
    },
    {
      "cell_type": "code",
      "source": [
        "relabelled_tweets_df['target_list'] = relabelled_tweets_df['text'].apply(lambda x: manually_labelled.get(x))\n",
        "relabelled_tweets_df = relabelled_tweets_df.rename(columns={'target_list': 'target'}).drop('target_count', axis=1)\n",
        "relabelled_tweets_df.sample(10)"
      ],
      "metadata": {
        "colab": {
          "base_uri": "https://localhost:8080/",
          "height": 363
        },
        "id": "RiMe7ABRmJHH",
        "outputId": "e41379a3-d14d-4109-878a-eee1e6fc2160"
      },
      "execution_count": 38,
      "outputs": [
        {
          "output_type": "execute_result",
          "data": {
            "text/plain": [
              "                                                   text    keyword  target\n",
              "4176  In #islam saving a person is equal in reward t...  terrorism       0\n",
              "3603  Hellfire! We donÛªt even want to think about ...   hellfire       0\n",
              "6788  Who is bringing the tornadoes and floods. Who ...     floods       0\n",
              "5339  RT NotExplained: The only known image of infam...   hijacker       0\n",
              "2739  Caution: breathing may be hazardous to your he...  hazardous       1\n",
              "2671  CLEARED:incident with injury:I-495  inner loop...     injury       1\n",
              "3601  Hellfire is surrounded by desires so be carefu...   hellfire       0\n",
              "23    #Allah describes piling up #wealth thinking it...   hellfire       0\n",
              "277   #foodscare #offers2go #NestleIndia slips into ...  hazardous       0\n",
              "3575  He came to a land which was engulfed in tribal...   engulfed       0"
            ],
            "text/html": [
              "\n",
              "  <div id=\"df-4cc4b122-de9d-4d5c-a315-c69c0eec06a9\">\n",
              "    <div class=\"colab-df-container\">\n",
              "      <div>\n",
              "<style scoped>\n",
              "    .dataframe tbody tr th:only-of-type {\n",
              "        vertical-align: middle;\n",
              "    }\n",
              "\n",
              "    .dataframe tbody tr th {\n",
              "        vertical-align: top;\n",
              "    }\n",
              "\n",
              "    .dataframe thead th {\n",
              "        text-align: right;\n",
              "    }\n",
              "</style>\n",
              "<table border=\"1\" class=\"dataframe\">\n",
              "  <thead>\n",
              "    <tr style=\"text-align: right;\">\n",
              "      <th></th>\n",
              "      <th>text</th>\n",
              "      <th>keyword</th>\n",
              "      <th>target</th>\n",
              "    </tr>\n",
              "  </thead>\n",
              "  <tbody>\n",
              "    <tr>\n",
              "      <th>4176</th>\n",
              "      <td>In #islam saving a person is equal in reward t...</td>\n",
              "      <td>terrorism</td>\n",
              "      <td>0</td>\n",
              "    </tr>\n",
              "    <tr>\n",
              "      <th>3603</th>\n",
              "      <td>Hellfire! We donÛªt even want to think about ...</td>\n",
              "      <td>hellfire</td>\n",
              "      <td>0</td>\n",
              "    </tr>\n",
              "    <tr>\n",
              "      <th>6788</th>\n",
              "      <td>Who is bringing the tornadoes and floods. Who ...</td>\n",
              "      <td>floods</td>\n",
              "      <td>0</td>\n",
              "    </tr>\n",
              "    <tr>\n",
              "      <th>5339</th>\n",
              "      <td>RT NotExplained: The only known image of infam...</td>\n",
              "      <td>hijacker</td>\n",
              "      <td>0</td>\n",
              "    </tr>\n",
              "    <tr>\n",
              "      <th>2739</th>\n",
              "      <td>Caution: breathing may be hazardous to your he...</td>\n",
              "      <td>hazardous</td>\n",
              "      <td>1</td>\n",
              "    </tr>\n",
              "    <tr>\n",
              "      <th>2671</th>\n",
              "      <td>CLEARED:incident with injury:I-495  inner loop...</td>\n",
              "      <td>injury</td>\n",
              "      <td>1</td>\n",
              "    </tr>\n",
              "    <tr>\n",
              "      <th>3601</th>\n",
              "      <td>Hellfire is surrounded by desires so be carefu...</td>\n",
              "      <td>hellfire</td>\n",
              "      <td>0</td>\n",
              "    </tr>\n",
              "    <tr>\n",
              "      <th>23</th>\n",
              "      <td>#Allah describes piling up #wealth thinking it...</td>\n",
              "      <td>hellfire</td>\n",
              "      <td>0</td>\n",
              "    </tr>\n",
              "    <tr>\n",
              "      <th>277</th>\n",
              "      <td>#foodscare #offers2go #NestleIndia slips into ...</td>\n",
              "      <td>hazardous</td>\n",
              "      <td>0</td>\n",
              "    </tr>\n",
              "    <tr>\n",
              "      <th>3575</th>\n",
              "      <td>He came to a land which was engulfed in tribal...</td>\n",
              "      <td>engulfed</td>\n",
              "      <td>0</td>\n",
              "    </tr>\n",
              "  </tbody>\n",
              "</table>\n",
              "</div>\n",
              "      <button class=\"colab-df-convert\" onclick=\"convertToInteractive('df-4cc4b122-de9d-4d5c-a315-c69c0eec06a9')\"\n",
              "              title=\"Convert this dataframe to an interactive table.\"\n",
              "              style=\"display:none;\">\n",
              "        \n",
              "  <svg xmlns=\"http://www.w3.org/2000/svg\" height=\"24px\"viewBox=\"0 0 24 24\"\n",
              "       width=\"24px\">\n",
              "    <path d=\"M0 0h24v24H0V0z\" fill=\"none\"/>\n",
              "    <path d=\"M18.56 5.44l.94 2.06.94-2.06 2.06-.94-2.06-.94-.94-2.06-.94 2.06-2.06.94zm-11 1L8.5 8.5l.94-2.06 2.06-.94-2.06-.94L8.5 2.5l-.94 2.06-2.06.94zm10 10l.94 2.06.94-2.06 2.06-.94-2.06-.94-.94-2.06-.94 2.06-2.06.94z\"/><path d=\"M17.41 7.96l-1.37-1.37c-.4-.4-.92-.59-1.43-.59-.52 0-1.04.2-1.43.59L10.3 9.45l-7.72 7.72c-.78.78-.78 2.05 0 2.83L4 21.41c.39.39.9.59 1.41.59.51 0 1.02-.2 1.41-.59l7.78-7.78 2.81-2.81c.8-.78.8-2.07 0-2.86zM5.41 20L4 18.59l7.72-7.72 1.47 1.35L5.41 20z\"/>\n",
              "  </svg>\n",
              "      </button>\n",
              "      \n",
              "  <style>\n",
              "    .colab-df-container {\n",
              "      display:flex;\n",
              "      flex-wrap:wrap;\n",
              "      gap: 12px;\n",
              "    }\n",
              "\n",
              "    .colab-df-convert {\n",
              "      background-color: #E8F0FE;\n",
              "      border: none;\n",
              "      border-radius: 50%;\n",
              "      cursor: pointer;\n",
              "      display: none;\n",
              "      fill: #1967D2;\n",
              "      height: 32px;\n",
              "      padding: 0 0 0 0;\n",
              "      width: 32px;\n",
              "    }\n",
              "\n",
              "    .colab-df-convert:hover {\n",
              "      background-color: #E2EBFA;\n",
              "      box-shadow: 0px 1px 2px rgba(60, 64, 67, 0.3), 0px 1px 3px 1px rgba(60, 64, 67, 0.15);\n",
              "      fill: #174EA6;\n",
              "    }\n",
              "\n",
              "    [theme=dark] .colab-df-convert {\n",
              "      background-color: #3B4455;\n",
              "      fill: #D2E3FC;\n",
              "    }\n",
              "\n",
              "    [theme=dark] .colab-df-convert:hover {\n",
              "      background-color: #434B5C;\n",
              "      box-shadow: 0px 1px 3px 1px rgba(0, 0, 0, 0.15);\n",
              "      filter: drop-shadow(0px 1px 2px rgba(0, 0, 0, 0.3));\n",
              "      fill: #FFFFFF;\n",
              "    }\n",
              "  </style>\n",
              "\n",
              "      <script>\n",
              "        const buttonEl =\n",
              "          document.querySelector('#df-4cc4b122-de9d-4d5c-a315-c69c0eec06a9 button.colab-df-convert');\n",
              "        buttonEl.style.display =\n",
              "          google.colab.kernel.accessAllowed ? 'block' : 'none';\n",
              "\n",
              "        async function convertToInteractive(key) {\n",
              "          const element = document.querySelector('#df-4cc4b122-de9d-4d5c-a315-c69c0eec06a9');\n",
              "          const dataTable =\n",
              "            await google.colab.kernel.invokeFunction('convertToInteractive',\n",
              "                                                     [key], {});\n",
              "          if (!dataTable) return;\n",
              "\n",
              "          const docLinkHtml = 'Like what you see? Visit the ' +\n",
              "            '<a target=\"_blank\" href=https://colab.research.google.com/notebooks/data_table.ipynb>data table notebook</a>'\n",
              "            + ' to learn more about interactive tables.';\n",
              "          element.innerHTML = '';\n",
              "          dataTable['output_type'] = 'display_data';\n",
              "          await google.colab.output.renderOutput(dataTable, element);\n",
              "          const docLink = document.createElement('div');\n",
              "          docLink.innerHTML = docLinkHtml;\n",
              "          element.appendChild(docLink);\n",
              "        }\n",
              "      </script>\n",
              "    </div>\n",
              "  </div>\n",
              "  "
            ]
          },
          "metadata": {},
          "execution_count": 38
        }
      ]
    },
    {
      "cell_type": "markdown",
      "source": [
        "**adding all relaballed tweets back to the training dataframe**"
      ],
      "metadata": {
        "id": "lgljYumgps3L"
      }
    },
    {
      "cell_type": "code",
      "source": [
        "train_df = pd.concat([train_df, parsed_tweets_df, relabelled_tweets_df])\n",
        "print('length of a new training dataframe', len(train_df))\n",
        "\n",
        "train_df.to_csv('/content/drive/MyDrive/Colab Notebooks/Self case study/Natutal Disaster prediction/data/duplicate_removed.csv')"
      ],
      "metadata": {
        "colab": {
          "base_uri": "https://localhost:8080/"
        },
        "id": "gKh4kREeps9M",
        "outputId": "e880b9ec-2639-4412-9ecd-d9219f294fe3"
      },
      "execution_count": 39,
      "outputs": [
        {
          "output_type": "stream",
          "name": "stdout",
          "text": [
            "length of a new training dataframe 7526\n"
          ]
        }
      ]
    },
    {
      "cell_type": "code",
      "source": [
        "# train_df = pd.read_csv('/content/drive/MyDrive/Colab Notebooks/Self case study/Natutal Disaster prediction/data/duplicate_removed.csv')"
      ],
      "metadata": {
        "id": "EEex6bwaCbZy"
      },
      "execution_count": 40,
      "outputs": []
    },
    {
      "cell_type": "markdown",
      "source": [
        "## Data Preprocessing"
      ],
      "metadata": {
        "id": "nvvB9xpHqK5S"
      }
    },
    {
      "cell_type": "markdown",
      "source": [
        "<p>we found a some words in hexadecimal format, they may be some punctuations, so lets print the tweets having such words to analyse first</p>"
      ],
      "metadata": {
        "id": "GpYT_NXwqhVB"
      }
    },
    {
      "cell_type": "code",
      "source": [
        "import re\n",
        "\n",
        "def replace_byte_chars(tweet):\n",
        "  tweet = re.sub(r\"\\x89Ûªs\", '\\'s', tweet)\n",
        "  tweet = re.sub(r\"\\x89Û_\", \"\", tweet)\n",
        "  tweet = re.sub(r\"\\x89ÛÒ\", \"\", tweet)\n",
        "  tweet = re.sub(r\"\\x89ûó\", \"\", tweet)\n",
        "  tweet = re.sub(r\"\\x89ÛÏ\", \"\", tweet)\n",
        "  tweet = re.sub(r\"\\x89Û÷\", \"\", tweet)\n",
        "  tweet = re.sub(r\"\\x89Û\", \"\", tweet)\n",
        "  tweet = re.sub(r\"\\x89Û\\x9d\", \"\", tweet)\n",
        "  tweet = re.sub(r\"\\x89Û¢\", \"\", tweet)\n",
        "  tweet = re.sub(r\"\\x89Û¢åÊ\", \"\", tweet)\n",
        "  tweet = re.sub(r\"åÊ\", \" \", tweet)\n",
        "  tweet = re.sub(r\"fromåÊwounds\", \"from wounds\", tweet)\n",
        "  tweet = re.sub(r\"JapÌ_n\", \"Japan\", tweet)    \n",
        "  tweet = re.sub(r\"Ì©\", \"e\", tweet)\n",
        "  tweet = re.sub(r\"å¨\", \"\", tweet)\n",
        "  tweet = re.sub(r\"SuruÌ¤\", \"Suruc\", tweet)\n",
        "  tweet = re.sub(r\"åÇ\", \"\", tweet)\n",
        "  tweet = re.sub(r\"å£3million\", \"3 million\", tweet)\n",
        "  tweet = re.sub(r\"åÀ\", \"\", tweet)\n",
        "  \n",
        "  return tweet"
      ],
      "metadata": {
        "id": "fAY6yqzltxfX"
      },
      "execution_count": 41,
      "outputs": []
    },
    {
      "cell_type": "code",
      "source": [
        "import contractions\n",
        "def do_decontractions(tweet):\n",
        "  tweet = contractions.fix(tweet)\n",
        "  return tweet"
      ],
      "metadata": {
        "id": "9cqEdolF0vWQ"
      },
      "execution_count": 42,
      "outputs": []
    },
    {
      "cell_type": "code",
      "source": [
        "def clean_tweet(tweet):\n",
        "  tweet = tweet.lower()\n",
        "  tweet = replace_byte_chars(tweet)\n",
        "  tweet = do_decontractions(tweet)\n",
        "  # removing urls\n",
        "  tweet = re.sub(r\"https?:\\/\\/t.co\\/[A-Za-z0-9]+\", \"\", tweet)\n",
        "  # Words with punctuations and special characters\n",
        "  tweet = re.sub(r\"[\\\"#$%&'()*+,\\-.\\/:;<=>@[\\]^_`{|}~]\", \"\", tweet)\n",
        "  # adding space in front of ? and !\n",
        "  tweet = re.sub(r\"([?!]+)\", r\" \\1\", tweet)\n",
        "  tweet = re.sub(r\"\\s+\", \" \", tweet)\n",
        "  tweet = tweet.strip()\n",
        "  return tweet"
      ],
      "metadata": {
        "id": "-0Y8l9wP1RmI"
      },
      "execution_count": 43,
      "outputs": []
    },
    {
      "cell_type": "code",
      "source": [
        "processed_train_df = train_df.copy()\n",
        "processed_train_df['text'] = processed_train_df['text'].apply(lambda x: clean_tweet(x))\n",
        "test_df['text'] = test_df['text'].apply(lambda x: clean_tweet(x))\n",
        "\n",
        "processed_train_df.to_csv('/content/drive/MyDrive/Colab Notebooks/Self case study/Natutal Disaster prediction/data/final_processed.csv')\n",
        "test_df.to_csv('/content/drive/MyDrive/Colab Notebooks/Self case study/Natutal Disaster prediction/data/final_processed_test_data.csv')\n",
        "processed_train_df.head()"
      ],
      "metadata": {
        "colab": {
          "base_uri": "https://localhost:8080/",
          "height": 0
        },
        "id": "9ThN6ZBvCI21",
        "outputId": "f3316a29-3ba9-4cdc-9bf9-494519e41b26"
      },
      "execution_count": 44,
      "outputs": [
        {
          "output_type": "execute_result",
          "data": {
            "text/plain": [
              "    id keyword location                                               text  \\\n",
              "0  1.0     NaN      NaN  our deeds are the reason of this earthquake ma...   \n",
              "1  4.0     NaN      NaN              forest fire near la ronge sask canada   \n",
              "2  5.0     NaN      NaN  all residents asked to shelter in place are be...   \n",
              "3  6.0     NaN      NaN  13000 people receive wildfires evacuation orde...   \n",
              "4  7.0     NaN      NaN  just got sent this photo from ruby alaska as s...   \n",
              "\n",
              "  target  \n",
              "0      1  \n",
              "1      1  \n",
              "2      1  \n",
              "3      1  \n",
              "4      1  "
            ],
            "text/html": [
              "\n",
              "  <div id=\"df-a78ef4b9-93ad-4768-ab9d-b6a21efada75\">\n",
              "    <div class=\"colab-df-container\">\n",
              "      <div>\n",
              "<style scoped>\n",
              "    .dataframe tbody tr th:only-of-type {\n",
              "        vertical-align: middle;\n",
              "    }\n",
              "\n",
              "    .dataframe tbody tr th {\n",
              "        vertical-align: top;\n",
              "    }\n",
              "\n",
              "    .dataframe thead th {\n",
              "        text-align: right;\n",
              "    }\n",
              "</style>\n",
              "<table border=\"1\" class=\"dataframe\">\n",
              "  <thead>\n",
              "    <tr style=\"text-align: right;\">\n",
              "      <th></th>\n",
              "      <th>id</th>\n",
              "      <th>keyword</th>\n",
              "      <th>location</th>\n",
              "      <th>text</th>\n",
              "      <th>target</th>\n",
              "    </tr>\n",
              "  </thead>\n",
              "  <tbody>\n",
              "    <tr>\n",
              "      <th>0</th>\n",
              "      <td>1.0</td>\n",
              "      <td>NaN</td>\n",
              "      <td>NaN</td>\n",
              "      <td>our deeds are the reason of this earthquake ma...</td>\n",
              "      <td>1</td>\n",
              "    </tr>\n",
              "    <tr>\n",
              "      <th>1</th>\n",
              "      <td>4.0</td>\n",
              "      <td>NaN</td>\n",
              "      <td>NaN</td>\n",
              "      <td>forest fire near la ronge sask canada</td>\n",
              "      <td>1</td>\n",
              "    </tr>\n",
              "    <tr>\n",
              "      <th>2</th>\n",
              "      <td>5.0</td>\n",
              "      <td>NaN</td>\n",
              "      <td>NaN</td>\n",
              "      <td>all residents asked to shelter in place are be...</td>\n",
              "      <td>1</td>\n",
              "    </tr>\n",
              "    <tr>\n",
              "      <th>3</th>\n",
              "      <td>6.0</td>\n",
              "      <td>NaN</td>\n",
              "      <td>NaN</td>\n",
              "      <td>13000 people receive wildfires evacuation orde...</td>\n",
              "      <td>1</td>\n",
              "    </tr>\n",
              "    <tr>\n",
              "      <th>4</th>\n",
              "      <td>7.0</td>\n",
              "      <td>NaN</td>\n",
              "      <td>NaN</td>\n",
              "      <td>just got sent this photo from ruby alaska as s...</td>\n",
              "      <td>1</td>\n",
              "    </tr>\n",
              "  </tbody>\n",
              "</table>\n",
              "</div>\n",
              "      <button class=\"colab-df-convert\" onclick=\"convertToInteractive('df-a78ef4b9-93ad-4768-ab9d-b6a21efada75')\"\n",
              "              title=\"Convert this dataframe to an interactive table.\"\n",
              "              style=\"display:none;\">\n",
              "        \n",
              "  <svg xmlns=\"http://www.w3.org/2000/svg\" height=\"24px\"viewBox=\"0 0 24 24\"\n",
              "       width=\"24px\">\n",
              "    <path d=\"M0 0h24v24H0V0z\" fill=\"none\"/>\n",
              "    <path d=\"M18.56 5.44l.94 2.06.94-2.06 2.06-.94-2.06-.94-.94-2.06-.94 2.06-2.06.94zm-11 1L8.5 8.5l.94-2.06 2.06-.94-2.06-.94L8.5 2.5l-.94 2.06-2.06.94zm10 10l.94 2.06.94-2.06 2.06-.94-2.06-.94-.94-2.06-.94 2.06-2.06.94z\"/><path d=\"M17.41 7.96l-1.37-1.37c-.4-.4-.92-.59-1.43-.59-.52 0-1.04.2-1.43.59L10.3 9.45l-7.72 7.72c-.78.78-.78 2.05 0 2.83L4 21.41c.39.39.9.59 1.41.59.51 0 1.02-.2 1.41-.59l7.78-7.78 2.81-2.81c.8-.78.8-2.07 0-2.86zM5.41 20L4 18.59l7.72-7.72 1.47 1.35L5.41 20z\"/>\n",
              "  </svg>\n",
              "      </button>\n",
              "      \n",
              "  <style>\n",
              "    .colab-df-container {\n",
              "      display:flex;\n",
              "      flex-wrap:wrap;\n",
              "      gap: 12px;\n",
              "    }\n",
              "\n",
              "    .colab-df-convert {\n",
              "      background-color: #E8F0FE;\n",
              "      border: none;\n",
              "      border-radius: 50%;\n",
              "      cursor: pointer;\n",
              "      display: none;\n",
              "      fill: #1967D2;\n",
              "      height: 32px;\n",
              "      padding: 0 0 0 0;\n",
              "      width: 32px;\n",
              "    }\n",
              "\n",
              "    .colab-df-convert:hover {\n",
              "      background-color: #E2EBFA;\n",
              "      box-shadow: 0px 1px 2px rgba(60, 64, 67, 0.3), 0px 1px 3px 1px rgba(60, 64, 67, 0.15);\n",
              "      fill: #174EA6;\n",
              "    }\n",
              "\n",
              "    [theme=dark] .colab-df-convert {\n",
              "      background-color: #3B4455;\n",
              "      fill: #D2E3FC;\n",
              "    }\n",
              "\n",
              "    [theme=dark] .colab-df-convert:hover {\n",
              "      background-color: #434B5C;\n",
              "      box-shadow: 0px 1px 3px 1px rgba(0, 0, 0, 0.15);\n",
              "      filter: drop-shadow(0px 1px 2px rgba(0, 0, 0, 0.3));\n",
              "      fill: #FFFFFF;\n",
              "    }\n",
              "  </style>\n",
              "\n",
              "      <script>\n",
              "        const buttonEl =\n",
              "          document.querySelector('#df-a78ef4b9-93ad-4768-ab9d-b6a21efada75 button.colab-df-convert');\n",
              "        buttonEl.style.display =\n",
              "          google.colab.kernel.accessAllowed ? 'block' : 'none';\n",
              "\n",
              "        async function convertToInteractive(key) {\n",
              "          const element = document.querySelector('#df-a78ef4b9-93ad-4768-ab9d-b6a21efada75');\n",
              "          const dataTable =\n",
              "            await google.colab.kernel.invokeFunction('convertToInteractive',\n",
              "                                                     [key], {});\n",
              "          if (!dataTable) return;\n",
              "\n",
              "          const docLinkHtml = 'Like what you see? Visit the ' +\n",
              "            '<a target=\"_blank\" href=https://colab.research.google.com/notebooks/data_table.ipynb>data table notebook</a>'\n",
              "            + ' to learn more about interactive tables.';\n",
              "          element.innerHTML = '';\n",
              "          dataTable['output_type'] = 'display_data';\n",
              "          await google.colab.output.renderOutput(dataTable, element);\n",
              "          const docLink = document.createElement('div');\n",
              "          docLink.innerHTML = docLinkHtml;\n",
              "          element.appendChild(docLink);\n",
              "        }\n",
              "      </script>\n",
              "    </div>\n",
              "  </div>\n",
              "  "
            ]
          },
          "metadata": {},
          "execution_count": 44
        }
      ]
    },
    {
      "cell_type": "code",
      "source": [
        "# processed_train_df = pd.read_csv('/content/drive/MyDrive/Colab Notebooks/Self case study/Natutal Disaster prediction/data/final_processed.csv')"
      ],
      "metadata": {
        "id": "bVKU63zuJF_b"
      },
      "execution_count": 45,
      "outputs": []
    },
    {
      "cell_type": "markdown",
      "source": [
        "# Modelling "
      ],
      "metadata": {
        "id": "ePB63GhiJU9v"
      }
    },
    {
      "cell_type": "markdown",
      "source": [
        "## Using Bert"
      ],
      "metadata": {
        "id": "WI9T5VE7l_yg"
      }
    },
    {
      "cell_type": "code",
      "source": [
        "max_seq_length = 128"
      ],
      "metadata": {
        "id": "j2mxYI-ex5tH"
      },
      "execution_count": 46,
      "outputs": []
    },
    {
      "cell_type": "markdown",
      "source": [
        "### Train Test split"
      ],
      "metadata": {
        "id": "DWtb7LMfgOE6"
      }
    },
    {
      "cell_type": "code",
      "source": [
        "from sklearn.model_selection import train_test_split"
      ],
      "metadata": {
        "id": "UhAX5BwXgkQR"
      },
      "execution_count": 47,
      "outputs": []
    },
    {
      "cell_type": "code",
      "source": [
        "X_train, X_val, y_train, y_val = train_test_split(\n",
        "    processed_train_df['text'], processed_train_df['target'], stratify=processed_train_df['target'], test_size=0.2\n",
        ")\n",
        "\n",
        "print(X_train.shape)\n",
        "print(X_val.shape)\n",
        "print(y_train.shape)\n",
        "print(y_val.shape)"
      ],
      "metadata": {
        "colab": {
          "base_uri": "https://localhost:8080/"
        },
        "id": "wS2jNkRZgOOk",
        "outputId": "ac74d4c8-2edd-491d-adc5-4837e65d0155"
      },
      "execution_count": 48,
      "outputs": [
        {
          "output_type": "stream",
          "name": "stdout",
          "text": [
            "(6020,)\n",
            "(1506,)\n",
            "(6020,)\n",
            "(1506,)\n"
          ]
        }
      ]
    },
    {
      "cell_type": "code",
      "source": [
        "labels_train = y_train.tolist()\n",
        "labels_train = np.array(labels_train).reshape(-1, 1)\n",
        "\n",
        "labels_test = y_val.tolist()\n",
        "labels_test = np.array(labels_test).reshape(-1, 1)"
      ],
      "metadata": {
        "id": "kNxXfAraXH4s"
      },
      "execution_count": 49,
      "outputs": []
    },
    {
      "cell_type": "code",
      "source": [
        "# refered this: https://www.tensorflow.org/text/tutorials/classify_text_with_bert\n",
        "import tensorflow_hub as hub\n",
        "import tensorflow_text"
      ],
      "metadata": {
        "id": "Ry8nT0u3Jjvs"
      },
      "execution_count": 50,
      "outputs": []
    },
    {
      "cell_type": "code",
      "source": [
        "# BERT_PATH = \"https://tfhub.dev/google/bert_uncased_L-12_H-768_A-12/1\"\n",
        "bert_preprocess_model = hub.KerasLayer('https://tfhub.dev/tensorflow/bert_en_uncased_preprocess/3', name='bert_preprocessing')\n",
        "bert_layer = hub.KerasLayer('https://tfhub.dev/tensorflow/bert_en_uncased_L-12_H-768_A-12/4', trainable=True, name='bert_layer')"
      ],
      "metadata": {
        "id": "yN7iAP0MJVP7"
      },
      "execution_count": 51,
      "outputs": []
    },
    {
      "cell_type": "markdown",
      "source": [
        "### Defining neural network"
      ],
      "metadata": {
        "id": "6DkMRPORzr05"
      }
    },
    {
      "cell_type": "code",
      "source": [
        "# bert model on text data\n",
        "input_layer1 = Input(shape=(), dtype=tf.string, name='text-layer')\n",
        "text_preprocessed = bert_preprocess_model(input_layer1)\n",
        "bert_outputs = bert_layer(text_preprocessed)\n",
        "pooled_out = bert_outputs['pooled_output']\n",
        "dropout_1 = Dropout(0.1)(pooled_out)\n",
        "\n",
        "#############\n",
        "dense1 = tf.keras.layers.Dense(128,activation='relu')(dropout_1)\n",
        "dense2 = tf.keras.layers.Dense(128,activation='relu')(dense1)\n",
        "dense3 = tf.keras.layers.Dense(64,activation='relu')(dense2)\n",
        "dropout_2 = tf.keras.layers.Dropout(0.2)(dense3)\n",
        "##########\n",
        "\n",
        "output = Dense(1, activation='sigmoid')(dropout_2)\n",
        "\n",
        "model = Model(input_layer1, output)\n",
        "model.summary()"
      ],
      "metadata": {
        "colab": {
          "base_uri": "https://localhost:8080/"
        },
        "id": "QacdTxaAWIaE",
        "outputId": "7c2a5f33-ccb2-433d-84ff-afe575bdf4b7"
      },
      "execution_count": 52,
      "outputs": [
        {
          "output_type": "stream",
          "name": "stdout",
          "text": [
            "Model: \"model_3\"\n",
            "__________________________________________________________________________________________________\n",
            " Layer (type)                   Output Shape         Param #     Connected to                     \n",
            "==================================================================================================\n",
            " text-layer (InputLayer)        [(None,)]            0           []                               \n",
            "                                                                                                  \n",
            " bert_preprocessing (KerasLayer  {'input_type_ids':   0          ['text-layer[0][0]']             \n",
            " )                              (None, 128),                                                      \n",
            "                                 'input_word_ids':                                                \n",
            "                                (None, 128),                                                      \n",
            "                                 'input_mask': (Non                                               \n",
            "                                e, 128)}                                                          \n",
            "                                                                                                  \n",
            " bert_layer (KerasLayer)        {'sequence_output':  109482241   ['bert_preprocessing[0][0]',     \n",
            "                                 (None, 128, 768),                'bert_preprocessing[0][1]',     \n",
            "                                 'encoder_outputs':               'bert_preprocessing[0][2]']     \n",
            "                                 [(None, 128, 768),                                               \n",
            "                                 (None, 128, 768),                                                \n",
            "                                 (None, 128, 768),                                                \n",
            "                                 (None, 128, 768),                                                \n",
            "                                 (None, 128, 768),                                                \n",
            "                                 (None, 128, 768),                                                \n",
            "                                 (None, 128, 768),                                                \n",
            "                                 (None, 128, 768),                                                \n",
            "                                 (None, 128, 768),                                                \n",
            "                                 (None, 128, 768),                                                \n",
            "                                 (None, 128, 768),                                                \n",
            "                                 (None, 128, 768)],                                               \n",
            "                                 'default': (None,                                                \n",
            "                                768),                                                             \n",
            "                                 'pooled_output': (                                               \n",
            "                                None, 768)}                                                       \n",
            "                                                                                                  \n",
            " dropout_11 (Dropout)           (None, 768)          0           ['bert_layer[0][13]']            \n",
            "                                                                                                  \n",
            " dense_10 (Dense)               (None, 128)          98432       ['dropout_11[0][0]']             \n",
            "                                                                                                  \n",
            " dense_11 (Dense)               (None, 128)          16512       ['dense_10[0][0]']               \n",
            "                                                                                                  \n",
            " dense_12 (Dense)               (None, 64)           8256        ['dense_11[0][0]']               \n",
            "                                                                                                  \n",
            " dropout_12 (Dropout)           (None, 64)           0           ['dense_12[0][0]']               \n",
            "                                                                                                  \n",
            " dense_13 (Dense)               (None, 1)            65          ['dropout_12[0][0]']             \n",
            "                                                                                                  \n",
            "==================================================================================================\n",
            "Total params: 109,605,506\n",
            "Trainable params: 109,605,505\n",
            "Non-trainable params: 1\n",
            "__________________________________________________________________________________________________\n"
          ]
        }
      ]
    },
    {
      "cell_type": "markdown",
      "source": [
        "### Callback for metrics"
      ],
      "metadata": {
        "id": "cqMUEN8Q0Ja1"
      }
    },
    {
      "cell_type": "code",
      "source": [
        "from sklearn.metrics import precision_score, recall_score, f1_score\n",
        "\n",
        "class F1ScoreCallback(Callback):\n",
        "    def __init__(self, train_data=(), val_data=()):\n",
        "        super().__init__()\n",
        "        self.X_train, self.y_train = train_data\n",
        "        self.train_f1_scores = []\n",
        "        \n",
        "        self.X_val, self.y_val = val_data\n",
        "        self.val_f1_scores = [] \n",
        "               \n",
        "    def on_epoch_end(self, epoch, logs={}):\n",
        "        train_predictions = np.round(self.model.predict(self.X_train, verbose=0))        \n",
        "        train_f1 = f1_score(self.y_train, train_predictions, average='macro')\n",
        "        self.train_f1_scores.append(train_f1)\n",
        "        \n",
        "        val_predictions = np.round(self.model.predict(self.X_val, verbose=0))\n",
        "        val_f1 = f1_score(self.y_val, val_predictions, average='macro')\n",
        "        self.val_f1_scores.append(val_f1)\n",
        "\n",
        "        print('\\nEpoch: {} -Training F1: {:.6}'.format(epoch + 1, train_f1))\n",
        "        print('Epoch: {}  -Validation F1: {:.6}'.format(epoch + 1, val_f1))  "
      ],
      "metadata": {
        "id": "IcN8Bjm7LW_R"
      },
      "execution_count": 53,
      "outputs": []
    },
    {
      "cell_type": "markdown",
      "source": [
        "### Compiling and Training Model"
      ],
      "metadata": {
        "id": "64JBE-ad0O_n"
      }
    },
    {
      "cell_type": "code",
      "source": [
        "EPOCHS = 20\n",
        "batch_size = 32"
      ],
      "metadata": {
        "id": "nFhnMWV1_j0G"
      },
      "execution_count": 54,
      "outputs": []
    },
    {
      "cell_type": "code",
      "source": [
        "from tensorflow.keras.optimizers import SGD, Adam\n",
        "optimizer = SGD(learning_rate=0.0001, momentum=0.8)\n",
        "# optimizer = Adam(learning_rate=0.0001)\n",
        "model.compile(optimizer=optimizer, loss='binary_crossentropy', metrics=['accuracy'])"
      ],
      "metadata": {
        "id": "cq_xOedg0Fs7"
      },
      "execution_count": 55,
      "outputs": []
    },
    {
      "cell_type": "code",
      "source": [
        "model_path = '/content/drive/MyDrive/Colab Notebooks/Self case study/Natutal Disaster prediction/model/best_bert_model.h5'\n",
        "\n",
        "metrics = F1ScoreCallback((X_train, labels_train), (X_val, labels_test))\n",
        "callbacks = [\n",
        "    tf.keras.callbacks.ModelCheckpoint(model_path, \n",
        "                                       monitor=\"val_accuracy\", save_best_only=True, verbose=10, mode='max'),\n",
        "    tf.keras.callbacks.ReduceLROnPlateau(monitor=\"val_loss\", factor=0.9, patience=3, verbose=10),\n",
        "    metrics\n",
        "]\n",
        "\n",
        "history = model.fit(\n",
        "    X_train,\n",
        "    labels_train,\n",
        "    validation_data=(X_val, labels_test),\n",
        "    epochs=5, #EPOCHS,\n",
        "    batch_size=batch_size,\n",
        "    callbacks=callbacks\n",
        ")"
      ],
      "metadata": {
        "colab": {
          "base_uri": "https://localhost:8080/"
        },
        "id": "WYaxo7PRLuO3",
        "outputId": "224289d1-c828-41d7-f436-f093f2872c7e"
      },
      "execution_count": 56,
      "outputs": [
        {
          "output_type": "stream",
          "name": "stdout",
          "text": [
            "Epoch 1/5\n",
            "189/189 [==============================] - ETA: 0s - loss: 0.6886 - accuracy: 0.5566\n",
            "Epoch 1: val_accuracy improved from -inf to 0.66799, saving model to /content/drive/MyDrive/Colab Notebooks/Self case study/Natutal Disaster prediction/model/best_bert_model.h5\n",
            "\n",
            "Epoch: 1 -Training F1: 0.641444\n",
            "Epoch: 1  -Validation F1: 0.635446\n",
            "189/189 [==============================] - 191s 926ms/step - loss: 0.6886 - accuracy: 0.5566 - val_loss: 0.6464 - val_accuracy: 0.6680 - lr: 1.0000e-04\n",
            "Epoch 2/5\n",
            "189/189 [==============================] - ETA: 0s - loss: 0.6417 - accuracy: 0.6578\n",
            "Epoch 2: val_accuracy improved from 0.66799 to 0.72643, saving model to /content/drive/MyDrive/Colab Notebooks/Self case study/Natutal Disaster prediction/model/best_bert_model.h5\n",
            "\n",
            "Epoch: 2 -Training F1: 0.717951\n",
            "Epoch: 2  -Validation F1: 0.714966\n",
            "189/189 [==============================] - 226s 1s/step - loss: 0.6417 - accuracy: 0.6578 - val_loss: 0.5998 - val_accuracy: 0.7264 - lr: 1.0000e-04\n",
            "Epoch 3/5\n",
            "189/189 [==============================] - ETA: 0s - loss: 0.5987 - accuracy: 0.7193\n",
            "Epoch 3: val_accuracy improved from 0.72643 to 0.75498, saving model to /content/drive/MyDrive/Colab Notebooks/Self case study/Natutal Disaster prediction/model/best_bert_model.h5\n",
            "\n",
            "Epoch: 3 -Training F1: 0.7455\n",
            "Epoch: 3  -Validation F1: 0.746142\n",
            "189/189 [==============================] - 183s 973ms/step - loss: 0.5987 - accuracy: 0.7193 - val_loss: 0.5510 - val_accuracy: 0.7550 - lr: 1.0000e-04\n",
            "Epoch 4/5\n",
            "189/189 [==============================] - ETA: 0s - loss: 0.5510 - accuracy: 0.7563\n",
            "Epoch 4: val_accuracy improved from 0.75498 to 0.76760, saving model to /content/drive/MyDrive/Colab Notebooks/Self case study/Natutal Disaster prediction/model/best_bert_model.h5\n",
            "\n",
            "Epoch: 4 -Training F1: 0.765196\n",
            "Epoch: 4  -Validation F1: 0.762434\n",
            "189/189 [==============================] - 223s 1s/step - loss: 0.5510 - accuracy: 0.7563 - val_loss: 0.5137 - val_accuracy: 0.7676 - lr: 1.0000e-04\n",
            "Epoch 5/5\n",
            "189/189 [==============================] - ETA: 0s - loss: 0.5103 - accuracy: 0.7779\n",
            "Epoch 5: val_accuracy improved from 0.76760 to 0.78951, saving model to /content/drive/MyDrive/Colab Notebooks/Self case study/Natutal Disaster prediction/model/best_bert_model.h5\n",
            "\n",
            "Epoch: 5 -Training F1: 0.786979\n",
            "Epoch: 5  -Validation F1: 0.783296\n",
            "189/189 [==============================] - 213s 1s/step - loss: 0.5103 - accuracy: 0.7779 - val_loss: 0.4810 - val_accuracy: 0.7895 - lr: 1.0000e-04\n"
          ]
        }
      ]
    },
    {
      "cell_type": "code",
      "source": [
        "history = model.fit(\n",
        "    X_train,\n",
        "    labels_train,\n",
        "    validation_data=(X_val, labels_test),\n",
        "    epochs=5, #EPOCHS,\n",
        "    batch_size=batch_size,\n",
        "    callbacks=callbacks\n",
        ")"
      ],
      "metadata": {
        "colab": {
          "base_uri": "https://localhost:8080/"
        },
        "id": "PE2ymt56_GrW",
        "outputId": "aad7bae8-ac4b-4dd5-82f9-37ac498b9001"
      },
      "execution_count": null,
      "outputs": [
        {
          "output_type": "stream",
          "name": "stdout",
          "text": [
            "Epoch 1/5\n",
            "189/189 [==============================] - ETA: 0s - loss: 0.4798 - accuracy: 0.7920\n",
            "Epoch 1: val_accuracy improved from 0.78951 to 0.79681, saving model to /content/drive/MyDrive/Colab Notebooks/Self case study/Natutal Disaster prediction/model/best_bert_model.h5\n",
            "\n",
            "Epoch: 1 -Training F1: 0.799227\n",
            "Epoch: 1  -Validation F1: 0.792545\n",
            "189/189 [==============================] - 211s 1s/step - loss: 0.4798 - accuracy: 0.7920 - val_loss: 0.4645 - val_accuracy: 0.7968 - lr: 1.0000e-04\n",
            "Epoch 2/5\n",
            "189/189 [==============================] - ETA: 0s - loss: 0.4649 - accuracy: 0.8055\n",
            "Epoch 2: val_accuracy improved from 0.79681 to 0.81009, saving model to /content/drive/MyDrive/Colab Notebooks/Self case study/Natutal Disaster prediction/model/best_bert_model.h5\n",
            "\n",
            "Epoch: 2 -Training F1: 0.814204\n",
            "Epoch: 2  -Validation F1: 0.805144\n",
            "189/189 [==============================] - 183s 972ms/step - loss: 0.4649 - accuracy: 0.8055 - val_loss: 0.4463 - val_accuracy: 0.8101 - lr: 1.0000e-04\n",
            "Epoch 3/5\n",
            "189/189 [==============================] - ETA: 0s - loss: 0.4486 - accuracy: 0.8116\n",
            "Epoch 3: val_accuracy improved from 0.81009 to 0.81740, saving model to /content/drive/MyDrive/Colab Notebooks/Self case study/Natutal Disaster prediction/model/best_bert_model.h5\n",
            "\n",
            "Epoch: 3 -Training F1: 0.823445\n",
            "Epoch: 3  -Validation F1: 0.812516\n",
            "189/189 [==============================] - 223s 1s/step - loss: 0.4486 - accuracy: 0.8116 - val_loss: 0.4376 - val_accuracy: 0.8174 - lr: 1.0000e-04\n",
            "Epoch 4/5\n",
            "189/189 [==============================] - ETA: 0s - loss: 0.4360 - accuracy: 0.8194\n",
            "Epoch 4: val_accuracy improved from 0.81740 to 0.81939, saving model to /content/drive/MyDrive/Colab Notebooks/Self case study/Natutal Disaster prediction/model/best_bert_model.h5\n",
            "\n",
            "Epoch: 4 -Training F1: 0.829357\n",
            "Epoch: 4  -Validation F1: 0.813752\n",
            "189/189 [==============================] - 214s 1s/step - loss: 0.4360 - accuracy: 0.8194 - val_loss: 0.4280 - val_accuracy: 0.8194 - lr: 1.0000e-04\n",
            "Epoch 5/5\n",
            "178/189 [===========================>..] - ETA: 5s - loss: 0.4282 - accuracy: 0.8234"
          ]
        }
      ]
    },
    {
      "cell_type": "code",
      "source": [
        "# model.load_weights(model_path)\n",
        "# model.save(model_path)"
      ],
      "metadata": {
        "id": "THLd5FlCgkXk"
      },
      "execution_count": 57,
      "outputs": []
    },
    {
      "cell_type": "code",
      "source": [
        "# model = tf.keras.models.load_model(model_path, custom_objects={'KerasLayer':hub.KerasLayer})\n",
        "# model.fit(\n",
        "#     X_train,\n",
        "#     labels_train,\n",
        "#     validation_data=(X_val, labels_test),\n",
        "#     epochs=EPOCHS,\n",
        "#     batch_size=batch_size,\n",
        "#     callbacks=callbacks\n",
        "# )"
      ],
      "metadata": {
        "id": "o_wIWjVppAio"
      },
      "execution_count": 58,
      "outputs": []
    },
    {
      "cell_type": "markdown",
      "source": [
        "### Training plots"
      ],
      "metadata": {
        "id": "NzCQYniIyXss"
      }
    },
    {
      "cell_type": "code",
      "source": [
        "train_f1_score = metrics.train_f1_scores\n",
        "val_f1_score = metrics.val_f1_scores\n",
        "\n",
        "plt.plot(range(EPOCHS), history.history['val_accuracy'], label='Val Accuracy')\n",
        "plt.plot(range(EPOCHS), history.history['accuracy'], label='Accuracy')\n",
        "plt.title('Training: Accuracy')\n",
        "plt.legend()\n",
        "plt.show()\n",
        "\n",
        "\n",
        "plt.plot(range(EPOCHS), train_f1_score, label='Train F1 score')\n",
        "plt.plot(range(EPOCHS), val_f1_score, label='Val F1 score')\n",
        "plt.title('Training: F1 score')\n",
        "plt.legend()\n",
        "plt.show()"
      ],
      "metadata": {
        "colab": {
          "base_uri": "https://localhost:8080/",
          "height": 545
        },
        "id": "ZQvvQjdryX4b",
        "outputId": "3fc8ce5f-c354-48c0-9a18-04d73eb0620b"
      },
      "execution_count": null,
      "outputs": [
        {
          "output_type": "display_data",
          "data": {
            "text/plain": [
              "<Figure size 432x288 with 1 Axes>"
            ],
            "image/png": "[encoded data removed]"
          },
          "metadata": {
            "needs_background": "light"
          }
        },
        {
          "output_type": "display_data",
          "data": {
            "text/plain": [
              "<Figure size 432x288 with 1 Axes>"
            ],
            "image/png": "[encoded data removed]"
          },
          "metadata": {
            "needs_background": "light"
          }
        }
      ]
    },
    {
      "cell_type": "markdown",
      "source": [
        "### Predict on test data"
      ],
      "metadata": {
        "id": "GVSLF9P7b2y1"
      }
    },
    {
      "cell_type": "code",
      "source": [
        "model.load_weights('/content/drive/MyDrive/Colab Notebooks/Self case study/Natutal Disaster prediction/model/best_bert_model.h5')\n",
        "\n",
        "predicted_df = test_df.copy()\n",
        "predicted_target = model.predict(predicted_df['text'])\n",
        "predicted_df['pred_prob'] = predicted_target"
      ],
      "metadata": {
        "id": "-GI5N6kHeBXT"
      },
      "execution_count": 59,
      "outputs": []
    },
    {
      "cell_type": "code",
      "source": [
        "predicted_df['target'] = predicted_df['pred_prob'].apply(lambda x: x > 0.5).astype(int)\n",
        "predicted_df = predicted_df.drop(['keyword', 'location', 'text', 'pred_prob'], axis=1)\n",
        "predicted_df.head()"
      ],
      "metadata": {
        "colab": {
          "base_uri": "https://localhost:8080/",
          "height": 206
        },
        "id": "PvA69Yl4b28l",
        "outputId": "a0417c4f-8c0d-4ab1-cb3e-a3cf4a2895c8"
      },
      "execution_count": 60,
      "outputs": [
        {
          "output_type": "execute_result",
          "data": {
            "text/plain": [
              "   id  target\n",
              "0   0       1\n",
              "1   2       1\n",
              "2   3       1\n",
              "3   9       1\n",
              "4  11       1"
            ],
            "text/html": [
              "\n",
              "  <div id=\"df-7e8c269c-e870-4c69-9e7b-d6e276650758\">\n",
              "    <div class=\"colab-df-container\">\n",
              "      <div>\n",
              "<style scoped>\n",
              "    .dataframe tbody tr th:only-of-type {\n",
              "        vertical-align: middle;\n",
              "    }\n",
              "\n",
              "    .dataframe tbody tr th {\n",
              "        vertical-align: top;\n",
              "    }\n",
              "\n",
              "    .dataframe thead th {\n",
              "        text-align: right;\n",
              "    }\n",
              "</style>\n",
              "<table border=\"1\" class=\"dataframe\">\n",
              "  <thead>\n",
              "    <tr style=\"text-align: right;\">\n",
              "      <th></th>\n",
              "      <th>id</th>\n",
              "      <th>target</th>\n",
              "    </tr>\n",
              "  </thead>\n",
              "  <tbody>\n",
              "    <tr>\n",
              "      <th>0</th>\n",
              "      <td>0</td>\n",
              "      <td>1</td>\n",
              "    </tr>\n",
              "    <tr>\n",
              "      <th>1</th>\n",
              "      <td>2</td>\n",
              "      <td>1</td>\n",
              "    </tr>\n",
              "    <tr>\n",
              "      <th>2</th>\n",
              "      <td>3</td>\n",
              "      <td>1</td>\n",
              "    </tr>\n",
              "    <tr>\n",
              "      <th>3</th>\n",
              "      <td>9</td>\n",
              "      <td>1</td>\n",
              "    </tr>\n",
              "    <tr>\n",
              "      <th>4</th>\n",
              "      <td>11</td>\n",
              "      <td>1</td>\n",
              "    </tr>\n",
              "  </tbody>\n",
              "</table>\n",
              "</div>\n",
              "      <button class=\"colab-df-convert\" onclick=\"convertToInteractive('df-7e8c269c-e870-4c69-9e7b-d6e276650758')\"\n",
              "              title=\"Convert this dataframe to an interactive table.\"\n",
              "              style=\"display:none;\">\n",
              "        \n",
              "  <svg xmlns=\"http://www.w3.org/2000/svg\" height=\"24px\"viewBox=\"0 0 24 24\"\n",
              "       width=\"24px\">\n",
              "    <path d=\"M0 0h24v24H0V0z\" fill=\"none\"/>\n",
              "    <path d=\"M18.56 5.44l.94 2.06.94-2.06 2.06-.94-2.06-.94-.94-2.06-.94 2.06-2.06.94zm-11 1L8.5 8.5l.94-2.06 2.06-.94-2.06-.94L8.5 2.5l-.94 2.06-2.06.94zm10 10l.94 2.06.94-2.06 2.06-.94-2.06-.94-.94-2.06-.94 2.06-2.06.94z\"/><path d=\"M17.41 7.96l-1.37-1.37c-.4-.4-.92-.59-1.43-.59-.52 0-1.04.2-1.43.59L10.3 9.45l-7.72 7.72c-.78.78-.78 2.05 0 2.83L4 21.41c.39.39.9.59 1.41.59.51 0 1.02-.2 1.41-.59l7.78-7.78 2.81-2.81c.8-.78.8-2.07 0-2.86zM5.41 20L4 18.59l7.72-7.72 1.47 1.35L5.41 20z\"/>\n",
              "  </svg>\n",
              "      </button>\n",
              "      \n",
              "  <style>\n",
              "    .colab-df-container {\n",
              "      display:flex;\n",
              "      flex-wrap:wrap;\n",
              "      gap: 12px;\n",
              "    }\n",
              "\n",
              "    .colab-df-convert {\n",
              "      background-color: #E8F0FE;\n",
              "      border: none;\n",
              "      border-radius: 50%;\n",
              "      cursor: pointer;\n",
              "      display: none;\n",
              "      fill: #1967D2;\n",
              "      height: 32px;\n",
              "      padding: 0 0 0 0;\n",
              "      width: 32px;\n",
              "    }\n",
              "\n",
              "    .colab-df-convert:hover {\n",
              "      background-color: #E2EBFA;\n",
              "      box-shadow: 0px 1px 2px rgba(60, 64, 67, 0.3), 0px 1px 3px 1px rgba(60, 64, 67, 0.15);\n",
              "      fill: #174EA6;\n",
              "    }\n",
              "\n",
              "    [theme=dark] .colab-df-convert {\n",
              "      background-color: #3B4455;\n",
              "      fill: #D2E3FC;\n",
              "    }\n",
              "\n",
              "    [theme=dark] .colab-df-convert:hover {\n",
              "      background-color: #434B5C;\n",
              "      box-shadow: 0px 1px 3px 1px rgba(0, 0, 0, 0.15);\n",
              "      filter: drop-shadow(0px 1px 2px rgba(0, 0, 0, 0.3));\n",
              "      fill: #FFFFFF;\n",
              "    }\n",
              "  </style>\n",
              "\n",
              "      <script>\n",
              "        const buttonEl =\n",
              "          document.querySelector('#df-7e8c269c-e870-4c69-9e7b-d6e276650758 button.colab-df-convert');\n",
              "        buttonEl.style.display =\n",
              "          google.colab.kernel.accessAllowed ? 'block' : 'none';\n",
              "\n",
              "        async function convertToInteractive(key) {\n",
              "          const element = document.querySelector('#df-7e8c269c-e870-4c69-9e7b-d6e276650758');\n",
              "          const dataTable =\n",
              "            await google.colab.kernel.invokeFunction('convertToInteractive',\n",
              "                                                     [key], {});\n",
              "          if (!dataTable) return;\n",
              "\n",
              "          const docLinkHtml = 'Like what you see? Visit the ' +\n",
              "            '<a target=\"_blank\" href=https://colab.research.google.com/notebooks/data_table.ipynb>data table notebook</a>'\n",
              "            + ' to learn more about interactive tables.';\n",
              "          element.innerHTML = '';\n",
              "          dataTable['output_type'] = 'display_data';\n",
              "          await google.colab.output.renderOutput(dataTable, element);\n",
              "          const docLink = document.createElement('div');\n",
              "          docLink.innerHTML = docLinkHtml;\n",
              "          element.appendChild(docLink);\n",
              "        }\n",
              "      </script>\n",
              "    </div>\n",
              "  </div>\n",
              "  "
            ]
          },
          "metadata": {},
          "execution_count": 60
        }
      ]
    },
    {
      "cell_type": "code",
      "source": [
        "predicted_df.to_csv('submission_using_bert.csv', index=False)\n",
        "!kaggle competitions submit -c nlp-getting-started -f submission_using_bert.csv -m \"Message\""
      ],
      "metadata": {
        "id": "XErsC-haeTrk",
        "colab": {
          "base_uri": "https://localhost:8080/"
        },
        "outputId": "c40415cf-cb92-47c9-f728-f280f879fc93"
      },
      "execution_count": 61,
      "outputs": [
        {
          "output_type": "stream",
          "name": "stdout",
          "text": [
            "Warning: Your Kaggle API key is readable by other users on this system! To fix this, you can run 'chmod 600 ./kaggle.json'\n",
            "100% 22.2k/22.2k [00:03<00:00, 7.19kB/s]\n",
            "Successfully submitted to Natural Language Processing with Disaster Tweets"
          ]
        }
      ]
    },
    {
      "cell_type": "markdown",
      "source": [
        "## Using Universal sentence encoder"
      ],
      "metadata": {
        "id": "BD4Kb2qS30I_"
      }
    },
    {
      "cell_type": "code",
      "source": [
        "use_layer = hub.KerasLayer(\"https://tfhub.dev/google/universal-sentence-encoder/4\", input_shape=[], dtype=tf.string, trainable=False)"
      ],
      "metadata": {
        "id": "a4OVnOQX30RX"
      },
      "execution_count": null,
      "outputs": []
    },
    {
      "cell_type": "code",
      "source": [
        "input_layer2 = Input(shape=(), dtype=tf.string, name='text-layer')\n",
        "text_preprocessed = use_layer(input_layer2)\n",
        "dense1 = Dense(128, activation='relu')(text_preprocessed)\n",
        "dropout1 = Dropout(0.2)(dense1)\n",
        "output = Dense(1, activation='sigmoid')(dropout1)\n",
        "\n",
        "model_use = Model(input_layer2, output)\n",
        "model_use.compile(loss= \"binary_crossentropy\", optimizer='adam', metrics=[\"accuracy\"])\n",
        "model_use.summary()"
      ],
      "metadata": {
        "colab": {
          "base_uri": "https://localhost:8080/"
        },
        "id": "w4EZvM-lNX94",
        "outputId": "8c008567-8332-4d91-b849-8626a2b08388"
      },
      "execution_count": null,
      "outputs": [
        {
          "output_type": "stream",
          "name": "stdout",
          "text": [
            "Model: \"model_17\"\n",
            "_________________________________________________________________\n",
            " Layer (type)                Output Shape              Param #   \n",
            "=================================================================\n",
            " text-layer (InputLayer)     [(None,)]                 0         \n",
            "                                                                 \n",
            " USE (KerasLayer)            (None, 512)               256797824 \n",
            "                                                                 \n",
            " dense_42 (Dense)            (None, 128)               65664     \n",
            "                                                                 \n",
            " dropout_16 (Dropout)        (None, 128)               0         \n",
            "                                                                 \n",
            " dense_43 (Dense)            (None, 1)                 129       \n",
            "                                                                 \n",
            "=================================================================\n",
            "Total params: 256,863,617\n",
            "Trainable params: 65,793\n",
            "Non-trainable params: 256,797,824\n",
            "_________________________________________________________________\n"
          ]
        }
      ]
    },
    {
      "cell_type": "code",
      "source": [
        "model_use_path = '/content/drive/MyDrive/Colab Notebooks/Self case study/Natutal Disaster prediction/model/best_use_model.h5'\n",
        "metrics1 = F1ScoreCallback((X_train, labels_train), (X_val, labels_test))\n",
        "callbacks = [\n",
        "    tf.keras.callbacks.ModelCheckpoint(model_use_path, \n",
        "                                       monitor=\"val_accuracy\", save_best_only=True, verbose=10, mode='max'),\n",
        "    tf.keras.callbacks.ReduceLROnPlateau(monitor=\"val_loss\", factor=0.9, patience=3, verbose=10),\n",
        "    metrics1\n",
        "]\n",
        "\n",
        "history1 = model_use.fit(\n",
        "    X_train,\n",
        "    labels_train,\n",
        "    validation_data=(X_val, labels_test),\n",
        "    epochs=EPOCHS,\n",
        "    batch_size=64,\n",
        "    callbacks=callbacks\n",
        ")"
      ],
      "metadata": {
        "colab": {
          "base_uri": "https://localhost:8080/"
        },
        "id": "8qDkZxAA4PQz",
        "outputId": "b333b244-5249-4b44-898c-11fd291e6a5b"
      },
      "execution_count": null,
      "outputs": [
        {
          "output_type": "stream",
          "name": "stdout",
          "text": [
            "Epoch 1/20\n",
            "94/95 [============================>.] - ETA: 0s - loss: 0.5418 - accuracy: 0.7663\n",
            "Epoch 1: val_accuracy improved from -inf to 0.79416, saving model to /content/drive/MyDrive/Colab Notebooks/Self case study/Natutal Disaster prediction/model/best_use_model.h5\n",
            "\n",
            "Epoch: 1 -Training F1: 0.804029\n",
            "Epoch: 1  -Validation F1: 0.788324\n",
            "95/95 [==============================] - 14s 136ms/step - loss: 0.5416 - accuracy: 0.7664 - val_loss: 0.4427 - val_accuracy: 0.7942 - lr: 0.0010\n",
            "Epoch 2/20\n",
            "94/95 [============================>.] - ETA: 0s - loss: 0.4237 - accuracy: 0.8095\n",
            "Epoch 2: val_accuracy improved from 0.79416 to 0.81142, saving model to /content/drive/MyDrive/Colab Notebooks/Self case study/Natutal Disaster prediction/model/best_use_model.h5\n",
            "\n",
            "Epoch: 2 -Training F1: 0.81605\n",
            "Epoch: 2  -Validation F1: 0.806077\n",
            "95/95 [==============================] - 8s 85ms/step - loss: 0.4238 - accuracy: 0.8095 - val_loss: 0.4220 - val_accuracy: 0.8114 - lr: 0.0010\n",
            "Epoch 3/20\n",
            "93/95 [============================>.] - ETA: 0s - loss: 0.4038 - accuracy: 0.8175\n",
            "Epoch 3: val_accuracy improved from 0.81142 to 0.81541, saving model to /content/drive/MyDrive/Colab Notebooks/Self case study/Natutal Disaster prediction/model/best_use_model.h5\n",
            "\n",
            "Epoch: 3 -Training F1: 0.822306\n",
            "Epoch: 3  -Validation F1: 0.809275\n",
            "95/95 [==============================] - 8s 87ms/step - loss: 0.4043 - accuracy: 0.8178 - val_loss: 0.4162 - val_accuracy: 0.8154 - lr: 0.0010\n",
            "Epoch 4/20\n",
            "95/95 [==============================] - ETA: 0s - loss: 0.3949 - accuracy: 0.8279\n",
            "Epoch 4: val_accuracy improved from 0.81541 to 0.82271, saving model to /content/drive/MyDrive/Colab Notebooks/Self case study/Natutal Disaster prediction/model/best_use_model.h5\n",
            "\n",
            "Epoch: 4 -Training F1: 0.825139\n",
            "Epoch: 4  -Validation F1: 0.816028\n",
            "95/95 [==============================] - 8s 84ms/step - loss: 0.3949 - accuracy: 0.8279 - val_loss: 0.4176 - val_accuracy: 0.8227 - lr: 0.0010\n",
            "Epoch 5/20\n",
            "92/95 [============================>.] - ETA: 0s - loss: 0.3858 - accuracy: 0.8276\n",
            "Epoch 5: val_accuracy did not improve from 0.82271\n",
            "\n",
            "Epoch: 5 -Training F1: 0.829643\n",
            "Epoch: 5  -Validation F1: 0.813752\n",
            "95/95 [==============================] - 3s 34ms/step - loss: 0.3863 - accuracy: 0.8267 - val_loss: 0.4149 - val_accuracy: 0.8201 - lr: 0.0010\n",
            "Epoch 6/20\n",
            "95/95 [==============================] - ETA: 0s - loss: 0.3790 - accuracy: 0.8321\n",
            "Epoch 6: val_accuracy did not improve from 0.82271\n",
            "\n",
            "Epoch: 6 -Training F1: 0.835483\n",
            "Epoch: 6  -Validation F1: 0.816956\n",
            "95/95 [==============================] - 4s 40ms/step - loss: 0.3790 - accuracy: 0.8321 - val_loss: 0.4136 - val_accuracy: 0.8227 - lr: 0.0010\n",
            "Epoch 7/20\n",
            "95/95 [==============================] - ETA: 0s - loss: 0.3729 - accuracy: 0.8389\n",
            "Epoch 7: val_accuracy did not improve from 0.82271\n",
            "\n",
            "Epoch: 7 -Training F1: 0.838122\n",
            "Epoch: 7  -Validation F1: 0.813752\n",
            "95/95 [==============================] - 5s 50ms/step - loss: 0.3729 - accuracy: 0.8389 - val_loss: 0.4159 - val_accuracy: 0.8201 - lr: 0.0010\n",
            "Epoch 8/20\n",
            "91/95 [===========================>..] - ETA: 0s - loss: 0.3665 - accuracy: 0.8407\n",
            "Epoch 8: val_accuracy did not improve from 0.82271\n",
            "\n",
            "Epoch: 8 -Training F1: 0.838603\n",
            "Epoch: 8  -Validation F1: 0.817001\n",
            "95/95 [==============================] - 4s 40ms/step - loss: 0.3651 - accuracy: 0.8407 - val_loss: 0.4182 - val_accuracy: 0.8214 - lr: 0.0010\n",
            "Epoch 9/20\n",
            "95/95 [==============================] - ETA: 0s - loss: 0.3613 - accuracy: 0.8405\n",
            "Epoch 9: val_accuracy did not improve from 0.82271\n",
            "\n",
            "Epoch 9: ReduceLROnPlateau reducing learning rate to 0.0009000000427477062.\n",
            "\n",
            "Epoch: 9 -Training F1: 0.84587\n",
            "Epoch: 9  -Validation F1: 0.812566\n",
            "95/95 [==============================] - 4s 39ms/step - loss: 0.3613 - accuracy: 0.8405 - val_loss: 0.4167 - val_accuracy: 0.8187 - lr: 0.0010\n",
            "Epoch 10/20\n",
            "94/95 [============================>.] - ETA: 0s - loss: 0.3510 - accuracy: 0.8467\n",
            "Epoch 10: val_accuracy did not improve from 0.82271\n",
            "\n",
            "Epoch: 10 -Training F1: 0.846356\n",
            "Epoch: 10  -Validation F1: 0.813239\n",
            "95/95 [==============================] - 3s 36ms/step - loss: 0.3508 - accuracy: 0.8468 - val_loss: 0.4194 - val_accuracy: 0.8181 - lr: 9.0000e-04\n",
            "Epoch 11/20\n",
            "94/95 [============================>.] - ETA: 0s - loss: 0.3464 - accuracy: 0.8501\n",
            "Epoch 11: val_accuracy did not improve from 0.82271\n",
            "\n",
            "Epoch: 11 -Training F1: 0.851266\n",
            "Epoch: 11  -Validation F1: 0.806279\n",
            "95/95 [==============================] - 3s 34ms/step - loss: 0.3467 - accuracy: 0.8500 - val_loss: 0.4176 - val_accuracy: 0.8134 - lr: 9.0000e-04\n",
            "Epoch 12/20\n",
            "94/95 [============================>.] - ETA: 0s - loss: 0.3414 - accuracy: 0.8534\n",
            "Epoch 12: val_accuracy did not improve from 0.82271\n",
            "\n",
            "Epoch 12: ReduceLROnPlateau reducing learning rate to 0.0008100000384729356.\n",
            "\n",
            "Epoch: 12 -Training F1: 0.852986\n",
            "Epoch: 12  -Validation F1: 0.816204\n",
            "95/95 [==============================] - 3s 34ms/step - loss: 0.3414 - accuracy: 0.8533 - val_loss: 0.4211 - val_accuracy: 0.8207 - lr: 9.0000e-04\n",
            "Epoch 13/20\n",
            "95/95 [==============================] - ETA: 0s - loss: 0.3336 - accuracy: 0.8518\n",
            "Epoch 13: val_accuracy did not improve from 0.82271\n",
            "\n",
            "Epoch: 13 -Training F1: 0.855609\n",
            "Epoch: 13  -Validation F1: 0.807556\n",
            "95/95 [==============================] - 3s 34ms/step - loss: 0.3336 - accuracy: 0.8518 - val_loss: 0.4183 - val_accuracy: 0.8147 - lr: 8.1000e-04\n",
            "Epoch 14/20\n",
            "94/95 [============================>.] - ETA: 0s - loss: 0.3281 - accuracy: 0.8584\n",
            "Epoch 14: val_accuracy did not improve from 0.82271\n",
            "\n",
            "Epoch: 14 -Training F1: 0.859774\n",
            "Epoch: 14  -Validation F1: 0.806501\n",
            "95/95 [==============================] - 3s 34ms/step - loss: 0.3281 - accuracy: 0.8583 - val_loss: 0.4205 - val_accuracy: 0.8141 - lr: 8.1000e-04\n",
            "Epoch 15/20\n",
            "94/95 [============================>.] - ETA: 0s - loss: 0.3214 - accuracy: 0.8604\n",
            "Epoch 15: val_accuracy did not improve from 0.82271\n",
            "\n",
            "Epoch 15: ReduceLROnPlateau reducing learning rate to 0.0007290000503417104.\n",
            "\n",
            "Epoch: 15 -Training F1: 0.86278\n",
            "Epoch: 15  -Validation F1: 0.806143\n",
            "95/95 [==============================] - 3s 34ms/step - loss: 0.3213 - accuracy: 0.8605 - val_loss: 0.4237 - val_accuracy: 0.8127 - lr: 8.1000e-04\n",
            "Epoch 16/20\n",
            "94/95 [============================>.] - ETA: 0s - loss: 0.3140 - accuracy: 0.8659\n",
            "Epoch 16: val_accuracy did not improve from 0.82271\n",
            "\n",
            "Epoch: 16 -Training F1: 0.864536\n",
            "Epoch: 16  -Validation F1: 0.809876\n",
            "95/95 [==============================] - 3s 34ms/step - loss: 0.3140 - accuracy: 0.8658 - val_loss: 0.4255 - val_accuracy: 0.8167 - lr: 7.2900e-04\n",
            "Epoch 17/20\n",
            "92/95 [============================>.] - ETA: 0s - loss: 0.3092 - accuracy: 0.8668\n",
            "Epoch 17: val_accuracy did not improve from 0.82271\n",
            "\n",
            "Epoch: 17 -Training F1: 0.864948\n",
            "Epoch: 17  -Validation F1: 0.808626\n",
            "95/95 [==============================] - 3s 34ms/step - loss: 0.3097 - accuracy: 0.8668 - val_loss: 0.4260 - val_accuracy: 0.8161 - lr: 7.2900e-04\n",
            "Epoch 18/20\n",
            "94/95 [============================>.] - ETA: 0s - loss: 0.3032 - accuracy: 0.8713\n",
            "Epoch 18: val_accuracy did not improve from 0.82271\n",
            "\n",
            "Epoch 18: ReduceLROnPlateau reducing learning rate to 0.0006561000715009868.\n",
            "\n",
            "Epoch: 18 -Training F1: 0.87059\n",
            "Epoch: 18  -Validation F1: 0.807759\n",
            "95/95 [==============================] - 3s 34ms/step - loss: 0.3032 - accuracy: 0.8714 - val_loss: 0.4262 - val_accuracy: 0.8147 - lr: 7.2900e-04\n",
            "Epoch 19/20\n",
            "94/95 [============================>.] - ETA: 0s - loss: 0.2964 - accuracy: 0.8773\n",
            "Epoch 19: val_accuracy did not improve from 0.82271\n",
            "\n",
            "Epoch: 19 -Training F1: 0.875358\n",
            "Epoch: 19  -Validation F1: 0.812933\n",
            "95/95 [==============================] - 3s 34ms/step - loss: 0.2967 - accuracy: 0.8771 - val_loss: 0.4277 - val_accuracy: 0.8187 - lr: 6.5610e-04\n",
            "Epoch 20/20\n",
            "95/95 [==============================] - ETA: 0s - loss: 0.2947 - accuracy: 0.8731\n",
            "Epoch 20: val_accuracy did not improve from 0.82271\n",
            "\n",
            "Epoch: 20 -Training F1: 0.875776\n",
            "Epoch: 20  -Validation F1: 0.810213\n",
            "95/95 [==============================] - 4s 40ms/step - loss: 0.2947 - accuracy: 0.8731 - val_loss: 0.4268 - val_accuracy: 0.8174 - lr: 6.5610e-04\n"
          ]
        }
      ]
    },
    {
      "cell_type": "code",
      "source": [
        "model_use.load_weights(model_use_path)\n",
        "model_use.save(model_use_path)"
      ],
      "metadata": {
        "id": "q-AnRKNtowcS"
      },
      "execution_count": null,
      "outputs": []
    },
    {
      "cell_type": "markdown",
      "source": [
        "### Training plots"
      ],
      "metadata": {
        "id": "bYjOYiyd5Mhd"
      }
    },
    {
      "cell_type": "code",
      "source": [
        "train_f1_score = metrics1.train_f1_scores\n",
        "val_f1_score = metrics1.val_f1_scores\n",
        "\n",
        "plt.plot(range(20), history1.history['val_accuracy'], label='Val Accuracy')\n",
        "plt.plot(range(20), history1.history['accuracy'], label='Accuracy')\n",
        "plt.legend()\n",
        "plt.show()\n",
        "\n",
        "plt.plot(range(20), train_f1_score, label='Train F1 score')\n",
        "plt.plot(range(20), val_f1_score, label='Val F1 score')\n",
        "plt.title('Training plots')\n",
        "plt.legend()\n",
        "plt.show()"
      ],
      "metadata": {
        "colab": {
          "base_uri": "https://localhost:8080/",
          "height": 529
        },
        "id": "Ga-pUSwj5Mhd",
        "outputId": "53dee7c2-de81-4861-c604-6ea4336909df"
      },
      "execution_count": null,
      "outputs": [
        {
          "output_type": "display_data",
          "data": {
            "text/plain": [
              "<Figure size 432x288 with 1 Axes>"
            ],
            "image/png": "[encoded data removed]"
          },
          "metadata": {
            "needs_background": "light"
          }
        },
        {
          "output_type": "display_data",
          "data": {
            "text/plain": [
              "<Figure size 432x288 with 1 Axes>"
            ],
            "image/png": "[encoded data removed]"
          },
          "metadata": {
            "needs_background": "light"
          }
        }
      ]
    },
    {
      "cell_type": "markdown",
      "source": [
        "### Predict on test data"
      ],
      "metadata": {
        "id": "_kdJrgQ4fMoo"
      }
    },
    {
      "cell_type": "code",
      "source": [
        "predicted_df = test_df.copy()\n",
        "predicted_target = model_use.predict(predicted_df['text'])\n",
        "predicted_df['pred_prob'] = predicted_target"
      ],
      "metadata": {
        "id": "Ldjmf1pNfMoo"
      },
      "execution_count": null,
      "outputs": []
    },
    {
      "cell_type": "code",
      "source": [
        "predicted_df['target'] = predicted_df['pred_prob'].apply(lambda x: x > 0.5).astype(int)\n",
        "predicted_df = predicted_df.drop(['keyword', 'location', 'text', 'pred_prob'], axis=1)\n",
        "predicted_df.head()"
      ],
      "metadata": {
        "colab": {
          "base_uri": "https://localhost:8080/",
          "height": 206
        },
        "outputId": "89c1e7c7-d4df-4cd7-de44-39906bf42132",
        "id": "Yw5WA2QQfMoo"
      },
      "execution_count": null,
      "outputs": [
        {
          "output_type": "execute_result",
          "data": {
            "text/plain": [
              "   id  target\n",
              "0   0       1\n",
              "1   2       1\n",
              "2   3       1\n",
              "3   9       1\n",
              "4  11       1"
            ],
            "text/html": [
              "\n",
              "  <div id=\"df-d8240675-507e-4ac8-af60-ea56ef4895e3\">\n",
              "    <div class=\"colab-df-container\">\n",
              "      <div>\n",
              "<style scoped>\n",
              "    .dataframe tbody tr th:only-of-type {\n",
              "        vertical-align: middle;\n",
              "    }\n",
              "\n",
              "    .dataframe tbody tr th {\n",
              "        vertical-align: top;\n",
              "    }\n",
              "\n",
              "    .dataframe thead th {\n",
              "        text-align: right;\n",
              "    }\n",
              "</style>\n",
              "<table border=\"1\" class=\"dataframe\">\n",
              "  <thead>\n",
              "    <tr style=\"text-align: right;\">\n",
              "      <th></th>\n",
              "      <th>id</th>\n",
              "      <th>target</th>\n",
              "    </tr>\n",
              "  </thead>\n",
              "  <tbody>\n",
              "    <tr>\n",
              "      <th>0</th>\n",
              "      <td>0</td>\n",
              "      <td>1</td>\n",
              "    </tr>\n",
              "    <tr>\n",
              "      <th>1</th>\n",
              "      <td>2</td>\n",
              "      <td>1</td>\n",
              "    </tr>\n",
              "    <tr>\n",
              "      <th>2</th>\n",
              "      <td>3</td>\n",
              "      <td>1</td>\n",
              "    </tr>\n",
              "    <tr>\n",
              "      <th>3</th>\n",
              "      <td>9</td>\n",
              "      <td>1</td>\n",
              "    </tr>\n",
              "    <tr>\n",
              "      <th>4</th>\n",
              "      <td>11</td>\n",
              "      <td>1</td>\n",
              "    </tr>\n",
              "  </tbody>\n",
              "</table>\n",
              "</div>\n",
              "      <button class=\"colab-df-convert\" onclick=\"convertToInteractive('df-d8240675-507e-4ac8-af60-ea56ef4895e3')\"\n",
              "              title=\"Convert this dataframe to an interactive table.\"\n",
              "              style=\"display:none;\">\n",
              "        \n",
              "  <svg xmlns=\"http://www.w3.org/2000/svg\" height=\"24px\"viewBox=\"0 0 24 24\"\n",
              "       width=\"24px\">\n",
              "    <path d=\"M0 0h24v24H0V0z\" fill=\"none\"/>\n",
              "    <path d=\"M18.56 5.44l.94 2.06.94-2.06 2.06-.94-2.06-.94-.94-2.06-.94 2.06-2.06.94zm-11 1L8.5 8.5l.94-2.06 2.06-.94-2.06-.94L8.5 2.5l-.94 2.06-2.06.94zm10 10l.94 2.06.94-2.06 2.06-.94-2.06-.94-.94-2.06-.94 2.06-2.06.94z\"/><path d=\"M17.41 7.96l-1.37-1.37c-.4-.4-.92-.59-1.43-.59-.52 0-1.04.2-1.43.59L10.3 9.45l-7.72 7.72c-.78.78-.78 2.05 0 2.83L4 21.41c.39.39.9.59 1.41.59.51 0 1.02-.2 1.41-.59l7.78-7.78 2.81-2.81c.8-.78.8-2.07 0-2.86zM5.41 20L4 18.59l7.72-7.72 1.47 1.35L5.41 20z\"/>\n",
              "  </svg>\n",
              "      </button>\n",
              "      \n",
              "  <style>\n",
              "    .colab-df-container {\n",
              "      display:flex;\n",
              "      flex-wrap:wrap;\n",
              "      gap: 12px;\n",
              "    }\n",
              "\n",
              "    .colab-df-convert {\n",
              "      background-color: #E8F0FE;\n",
              "      border: none;\n",
              "      border-radius: 50%;\n",
              "      cursor: pointer;\n",
              "      display: none;\n",
              "      fill: #1967D2;\n",
              "      height: 32px;\n",
              "      padding: 0 0 0 0;\n",
              "      width: 32px;\n",
              "    }\n",
              "\n",
              "    .colab-df-convert:hover {\n",
              "      background-color: #E2EBFA;\n",
              "      box-shadow: 0px 1px 2px rgba(60, 64, 67, 0.3), 0px 1px 3px 1px rgba(60, 64, 67, 0.15);\n",
              "      fill: #174EA6;\n",
              "    }\n",
              "\n",
              "    [theme=dark] .colab-df-convert {\n",
              "      background-color: #3B4455;\n",
              "      fill: #D2E3FC;\n",
              "    }\n",
              "\n",
              "    [theme=dark] .colab-df-convert:hover {\n",
              "      background-color: #434B5C;\n",
              "      box-shadow: 0px 1px 3px 1px rgba(0, 0, 0, 0.15);\n",
              "      filter: drop-shadow(0px 1px 2px rgba(0, 0, 0, 0.3));\n",
              "      fill: #FFFFFF;\n",
              "    }\n",
              "  </style>\n",
              "\n",
              "      <script>\n",
              "        const buttonEl =\n",
              "          document.querySelector('#df-d8240675-507e-4ac8-af60-ea56ef4895e3 button.colab-df-convert');\n",
              "        buttonEl.style.display =\n",
              "          google.colab.kernel.accessAllowed ? 'block' : 'none';\n",
              "\n",
              "        async function convertToInteractive(key) {\n",
              "          const element = document.querySelector('#df-d8240675-507e-4ac8-af60-ea56ef4895e3');\n",
              "          const dataTable =\n",
              "            await google.colab.kernel.invokeFunction('convertToInteractive',\n",
              "                                                     [key], {});\n",
              "          if (!dataTable) return;\n",
              "\n",
              "          const docLinkHtml = 'Like what you see? Visit the ' +\n",
              "            '<a target=\"_blank\" href=https://colab.research.google.com/notebooks/data_table.ipynb>data table notebook</a>'\n",
              "            + ' to learn more about interactive tables.';\n",
              "          element.innerHTML = '';\n",
              "          dataTable['output_type'] = 'display_data';\n",
              "          await google.colab.output.renderOutput(dataTable, element);\n",
              "          const docLink = document.createElement('div');\n",
              "          docLink.innerHTML = docLinkHtml;\n",
              "          element.appendChild(docLink);\n",
              "        }\n",
              "      </script>\n",
              "    </div>\n",
              "  </div>\n",
              "  "
            ]
          },
          "metadata": {},
          "execution_count": 322
        }
      ]
    },
    {
      "cell_type": "code",
      "source": [
        "predicted_df.to_csv('submission_use.csv', index=False)"
      ],
      "metadata": {
        "id": "QEM8aFS7fMop"
      },
      "execution_count": null,
      "outputs": []
    },
    {
      "cell_type": "code",
      "source": [
        "model"
      ],
      "metadata": {
        "id": "7H1x9DV5opGA"
      },
      "execution_count": null,
      "outputs": []
    },
    {
      "cell_type": "markdown",
      "source": [
        "## Using CNN with Bi-directional LSTM"
      ],
      "metadata": {
        "id": "7c-eNY8Zd3Si"
      }
    },
    {
      "cell_type": "code",
      "source": [
        "!wget http://nlp.stanford.edu/data/glove.6B.zip\n",
        "!unzip -q glove.6B.zip"
      ],
      "metadata": {
        "colab": {
          "base_uri": "https://localhost:8080/"
        },
        "id": "kg-JRlc8n3yk",
        "outputId": "763f65d6-3e64-421d-c393-b399e8d08957"
      },
      "execution_count": null,
      "outputs": [
        {
          "output_type": "stream",
          "name": "stdout",
          "text": [
            "--2022-08-15 08:29:42--  http://nlp.stanford.edu/data/glove.6B.zip\n",
            "Resolving nlp.stanford.edu (nlp.stanford.edu)... 171.64.67.140\n",
            "Connecting to nlp.stanford.edu (nlp.stanford.edu)|171.64.67.140|:80... connected.\n",
            "HTTP request sent, awaiting response... 302 Found\n",
            "Location: https://nlp.stanford.edu/data/glove.6B.zip [following]\n",
            "--2022-08-15 08:29:43--  https://nlp.stanford.edu/data/glove.6B.zip\n",
            "Connecting to nlp.stanford.edu (nlp.stanford.edu)|171.64.67.140|:443... connected.\n",
            "HTTP request sent, awaiting response... 301 Moved Permanently\n",
            "Location: https://downloads.cs.stanford.edu/nlp/data/glove.6B.zip [following]\n",
            "--2022-08-15 08:29:43--  https://downloads.cs.stanford.edu/nlp/data/glove.6B.zip\n",
            "Resolving downloads.cs.stanford.edu (downloads.cs.stanford.edu)... 171.64.64.22\n",
            "Connecting to downloads.cs.stanford.edu (downloads.cs.stanford.edu)|171.64.64.22|:443... connected.\n",
            "HTTP request sent, awaiting response... 200 OK\n",
            "Length: 862182613 (822M) [application/zip]\n",
            "Saving to: ‘glove.6B.zip’\n",
            "\n",
            "glove.6B.zip        100%[===================>] 822.24M  5.02MB/s    in 2m 39s  \n",
            "\n",
            "2022-08-15 08:32:22 (5.16 MB/s) - ‘glove.6B.zip’ saved [862182613/862182613]\n",
            "\n"
          ]
        }
      ]
    },
    {
      "cell_type": "code",
      "source": [
        "t = tf.keras.preprocessing.text.Tokenizer()\n",
        "t.fit_on_texts(X_train)\n",
        "vocab_size = len(t.word_index) + 1"
      ],
      "metadata": {
        "id": "hjZKH7rjpAyF"
      },
      "execution_count": null,
      "outputs": []
    },
    {
      "cell_type": "code",
      "source": [
        "path_to_glove_file = os.path.join(\"/content/glove.6B.100d.txt\")\n",
        "\n",
        "embeddings_index = {}\n",
        "with open(path_to_glove_file) as f:\n",
        "    for line in f:\n",
        "        word, coefs = line.split(maxsplit=1)\n",
        "        coefs = np.fromstring(coefs, \"f\", sep=\" \")\n",
        "        embeddings_index[word] = coefs\n",
        "\n",
        "print(\"Found %s word vectors.\" % len(embeddings_index))"
      ],
      "metadata": {
        "colab": {
          "base_uri": "https://localhost:8080/"
        },
        "id": "iqZMeTosn-RG",
        "outputId": "be7ae7a9-ef67-4814-f996-2c2d4ef23ebc"
      },
      "execution_count": null,
      "outputs": [
        {
          "output_type": "stream",
          "name": "stdout",
          "text": [
            "Found 400000 word vectors.\n"
          ]
        }
      ]
    },
    {
      "cell_type": "code",
      "source": [
        "num_tokens = vocab_size + 2\n",
        "embedding_dim = 100\n",
        "hits = 0\n",
        "misses = 0\n",
        "\n",
        "# Prepare embedding matrix\n",
        "embedding_matrix = np.zeros((num_tokens, embedding_dim))\n",
        "for word, i in t.word_index.items():\n",
        "    embedding_vector = embeddings_index.get(word)\n",
        "    if embedding_vector is not None:\n",
        "        # Words not found in embedding index will be all-zeros.\n",
        "        # This includes the representation for \"padding\" and \"OOV\"\n",
        "        embedding_matrix[i] = embedding_vector"
      ],
      "metadata": {
        "id": "3h_--jpzoEU5"
      },
      "execution_count": null,
      "outputs": []
    },
    {
      "cell_type": "code",
      "source": [
        "embedding_layer = Embedding(\n",
        "    num_tokens,\n",
        "    embedding_dim,\n",
        "    embeddings_initializer=tf.keras.initializers.Constant(embedding_matrix),\n",
        "    trainable=True,\n",
        ")"
      ],
      "metadata": {
        "id": "JPtwhkZypcjW"
      },
      "execution_count": null,
      "outputs": []
    },
    {
      "cell_type": "code",
      "source": [
        "input_layer = Input(shape=(140,), name='text-layer')\n",
        "\n",
        "embedd = embedding_layer(input_layer)\n",
        "\n",
        "lstm = tf.keras.layers.Bidirectional(\n",
        "    tf.keras.layers.LSTM(128, kernel_regularizer=tf.keras.regularizers.L2(0.001), return_sequences=True)\n",
        ")(embedd)\n",
        "\n",
        "conv1 = Conv1D(128, 3, padding='same', activation='relu')(lstm)\n",
        "max_pool = tf.keras.layers.MaxPooling1D()(conv1)\n",
        "flat = Flatten()(max_pool)\n",
        "dropout_2 = tf.keras.layers.Dropout(0.4)(flat)\n",
        "dense1 = Dense(256, activation='relu')(dropout_2)\n",
        "output = Dense(1, activation='sigmoid')(dense1)\n",
        "\n",
        "model_cnn = Model(inputs=input_layer, outputs=output)"
      ],
      "metadata": {
        "id": "ceSG7F1peSCC"
      },
      "execution_count": null,
      "outputs": []
    },
    {
      "cell_type": "code",
      "source": [
        "\n",
        "from tensorflow.keras.optimizers import SGD, Adam\n",
        "# optimizer = SGD(learning_rate=0.0001, momentum=0.8)\n",
        "optimizer = Adam(learning_rate=0.0001)\n",
        "model_cnn.compile(optimizer=optimizer, loss='binary_crossentropy', metrics=['accuracy'])\n",
        "\n",
        "model_cnn.summary()"
      ],
      "metadata": {
        "colab": {
          "base_uri": "https://localhost:8080/"
        },
        "id": "OlqZAEo8rwjj",
        "outputId": "369339f7-d2d6-4f51-b46a-619f6a5fccba"
      },
      "execution_count": null,
      "outputs": [
        {
          "output_type": "stream",
          "name": "stdout",
          "text": [
            "Model: \"model_7\"\n",
            "_________________________________________________________________\n",
            " Layer (type)                Output Shape              Param #   \n",
            "=================================================================\n",
            " text-layer (InputLayer)     [(None, 140)]             0         \n",
            "                                                                 \n",
            " embedding_5 (Embedding)     (None, 140, 100)          1564700   \n",
            "                                                                 \n",
            " bidirectional_6 (Bidirectio  (None, 140, 256)         234496    \n",
            " nal)                                                            \n",
            "                                                                 \n",
            " conv1d_10 (Conv1D)          (None, 140, 128)          98432     \n",
            "                                                                 \n",
            " max_pooling1d_6 (MaxPooling  (None, 70, 128)          0         \n",
            " 1D)                                                             \n",
            "                                                                 \n",
            " flatten_6 (Flatten)         (None, 8960)              0         \n",
            "                                                                 \n",
            " dropout_6 (Dropout)         (None, 8960)              0         \n",
            "                                                                 \n",
            " dense_14 (Dense)            (None, 256)               2294016   \n",
            "                                                                 \n",
            " dense_15 (Dense)            (None, 1)                 257       \n",
            "                                                                 \n",
            "=================================================================\n",
            "Total params: 4,191,901\n",
            "Trainable params: 4,191,901\n",
            "Non-trainable params: 0\n",
            "_________________________________________________________________\n"
          ]
        }
      ]
    },
    {
      "cell_type": "code",
      "source": [
        "from tensorflow.keras.preprocessing import sequence\n",
        "\n",
        "X_train_tokens = t.texts_to_sequences(X_train)\n",
        "X_test_tokens = t.texts_to_sequences(X_val)\n",
        "\n",
        "max_words = 140\n",
        "X_train_padded = sequence.pad_sequences(X_train_tokens, maxlen=max_words)\n",
        "X_test_padded = sequence.pad_sequences(X_test_tokens, maxlen=max_words)"
      ],
      "metadata": {
        "id": "CEoFREkgd3b8"
      },
      "execution_count": null,
      "outputs": []
    },
    {
      "cell_type": "code",
      "source": [
        "model_cnn_path = '/content/drive/MyDrive/Colab Notebooks/Self case study/Natutal Disaster prediction/model/best_cnn_model.h5'\n",
        "\n",
        "EPOCHS = 10\n",
        "metrics3 = F1ScoreCallback((X_train_padded, labels_train), (X_test_padded, labels_test))\n",
        "callbacks = [\n",
        "    tf.keras.callbacks.ModelCheckpoint(model_cnn_path, \n",
        "                                       monitor=\"val_accuracy\", save_best_only=True, verbose=10, mode='max'),\n",
        "    tf.keras.callbacks.ReduceLROnPlateau(monitor=\"val_loss\", factor=0.9, patience=3, verbose=10),\n",
        "    metrics3\n",
        "]\n",
        "\n",
        "history3 = model_cnn.fit(\n",
        "    X_train_padded,\n",
        "    labels_train,\n",
        "    validation_data=(X_test_padded, labels_test),\n",
        "    epochs=EPOCHS,\n",
        "    batch_size=64,\n",
        "    callbacks=callbacks\n",
        ")"
      ],
      "metadata": {
        "colab": {
          "base_uri": "https://localhost:8080/"
        },
        "id": "OJtRCeblrypt",
        "outputId": "6128016f-4238-46dd-9bf7-b9d9b07dfd07"
      },
      "execution_count": null,
      "outputs": [
        {
          "output_type": "stream",
          "name": "stdout",
          "text": [
            "Epoch 1/10\n",
            "95/95 [==============================] - ETA: 0s - loss: 0.8307 - accuracy: 0.7269\n",
            "Epoch 1: val_accuracy improved from -inf to 0.77092, saving model to /content/drive/MyDrive/Colab Notebooks/Self case study/Natutal Disaster prediction/model/best_cnn_model.h5\n",
            "\n",
            "Epoch: 1 -Training F1: 0.859068\n",
            "Epoch: 1  -Validation F1: 0.749001\n",
            "95/95 [==============================] - 12s 98ms/step - loss: 0.8307 - accuracy: 0.7269 - val_loss: 0.8532 - val_accuracy: 0.7709 - lr: 1.0000e-04\n",
            "Epoch 2/10\n",
            "94/95 [============================>.] - ETA: 0s - loss: 0.4608 - accuracy: 0.9257\n",
            "Epoch 2: val_accuracy did not improve from 0.77092\n",
            "\n",
            "Epoch: 2 -Training F1: 0.947875\n",
            "Epoch: 2  -Validation F1: 0.718339\n",
            "95/95 [==============================] - 4s 45ms/step - loss: 0.4608 - accuracy: 0.9256 - val_loss: 1.0462 - val_accuracy: 0.7198 - lr: 1.0000e-04\n",
            "Epoch 3/10\n",
            "95/95 [==============================] - ETA: 0s - loss: 0.3470 - accuracy: 0.9650\n",
            "Epoch 3: val_accuracy did not improve from 0.77092\n",
            "\n",
            "Epoch: 3 -Training F1: 0.969405\n",
            "Epoch: 3  -Validation F1: 0.72545\n",
            "95/95 [==============================] - 4s 45ms/step - loss: 0.3470 - accuracy: 0.9650 - val_loss: 1.2309 - val_accuracy: 0.7278 - lr: 1.0000e-04\n",
            "Epoch 4/10\n",
            "94/95 [============================>.] - ETA: 0s - loss: 0.3064 - accuracy: 0.9732\n",
            "Epoch 4: val_accuracy did not improve from 0.77092\n",
            "\n",
            "Epoch 4: ReduceLROnPlateau reducing learning rate to 8.999999772640876e-05.\n",
            "\n",
            "Epoch: 4 -Training F1: 0.981954\n",
            "Epoch: 4  -Validation F1: 0.749892\n",
            "95/95 [==============================] - 4s 45ms/step - loss: 0.3063 - accuracy: 0.9733 - val_loss: 1.2678 - val_accuracy: 0.7576 - lr: 1.0000e-04\n",
            "Epoch 5/10\n",
            "95/95 [==============================] - ETA: 0s - loss: 0.2791 - accuracy: 0.9814\n",
            "Epoch 5: val_accuracy did not improve from 0.77092\n",
            "\n",
            "Epoch: 5 -Training F1: 0.984559\n",
            "Epoch: 5  -Validation F1: 0.739634\n",
            "95/95 [==============================] - 5s 48ms/step - loss: 0.2791 - accuracy: 0.9814 - val_loss: 1.3219 - val_accuracy: 0.7437 - lr: 9.0000e-05\n",
            "Epoch 6/10\n",
            "94/95 [============================>.] - ETA: 0s - loss: 0.2801 - accuracy: 0.9771\n",
            "Epoch 6: val_accuracy did not improve from 0.77092\n",
            "\n",
            "Epoch: 6 -Training F1: 0.985425\n",
            "Epoch: 6  -Validation F1: 0.735873\n",
            "95/95 [==============================] - 4s 43ms/step - loss: 0.2801 - accuracy: 0.9771 - val_loss: 1.2839 - val_accuracy: 0.7390 - lr: 9.0000e-05\n",
            "Epoch 7/10\n",
            "94/95 [============================>.] - ETA: 0s - loss: 0.2484 - accuracy: 0.9847\n",
            "Epoch 7: val_accuracy did not improve from 0.77092\n",
            "\n",
            "Epoch 7: ReduceLROnPlateau reducing learning rate to 8.100000122794882e-05.\n",
            "\n",
            "Epoch: 7 -Training F1: 0.987781\n",
            "Epoch: 7  -Validation F1: 0.736394\n",
            "95/95 [==============================] - 4s 42ms/step - loss: 0.2485 - accuracy: 0.9847 - val_loss: 1.4414 - val_accuracy: 0.7404 - lr: 9.0000e-05\n",
            "Epoch 8/10\n",
            "93/95 [============================>.] - ETA: 0s - loss: 0.2370 - accuracy: 0.9839\n",
            "Epoch 8: val_accuracy did not improve from 0.77092\n",
            "\n",
            "Epoch: 8 -Training F1: 0.97468\n",
            "Epoch: 8  -Validation F1: 0.753248\n",
            "95/95 [==============================] - 4s 42ms/step - loss: 0.2366 - accuracy: 0.9841 - val_loss: 1.4994 - val_accuracy: 0.7656 - lr: 8.1000e-05\n",
            "Epoch 9/10\n",
            "93/95 [============================>.] - ETA: 0s - loss: 0.2296 - accuracy: 0.9844\n",
            "Epoch 9: val_accuracy did not improve from 0.77092\n",
            "\n",
            "Epoch: 9 -Training F1: 0.986541\n",
            "Epoch: 9  -Validation F1: 0.743413\n",
            "95/95 [==============================] - 4s 46ms/step - loss: 0.2299 - accuracy: 0.9844 - val_loss: 1.4817 - val_accuracy: 0.7517 - lr: 8.1000e-05\n",
            "Epoch 10/10\n",
            "93/95 [============================>.] - ETA: 0s - loss: 0.2253 - accuracy: 0.9844\n",
            "Epoch 10: val_accuracy did not improve from 0.77092\n",
            "\n",
            "Epoch 10: ReduceLROnPlateau reducing learning rate to 7.289999848580919e-05.\n",
            "\n",
            "Epoch: 10 -Training F1: 0.98914\n",
            "Epoch: 10  -Validation F1: 0.731349\n",
            "95/95 [==============================] - 4s 46ms/step - loss: 0.2258 - accuracy: 0.9842 - val_loss: 1.4580 - val_accuracy: 0.7351 - lr: 8.1000e-05\n"
          ]
        }
      ]
    },
    {
      "cell_type": "code",
      "source": [
        "model_cnn.load_weights(model_cnn_path)\n",
        "model_cnn.save(model_cnn_path)"
      ],
      "metadata": {
        "id": "hyihCmA8p8hv"
      },
      "execution_count": null,
      "outputs": []
    },
    {
      "cell_type": "code",
      "source": [
        "train_f1_score = metrics3.train_f1_scores\n",
        "val_f1_score = metrics3.val_f1_scores\n",
        "\n",
        "plt.plot(range(10), history3.history['val_accuracy'], label='Val Accuracy')\n",
        "plt.plot(range(10), history3.history['accuracy'], label='Accuracy')\n",
        "plt.legend()\n",
        "plt.show()\n",
        "\n",
        "plt.plot(range(10), train_f1_score, label='Train F1 score')\n",
        "plt.plot(range(10), val_f1_score, label='Val F1 score')\n",
        "plt.title('Training plots')\n",
        "plt.legend()\n",
        "plt.show()"
      ],
      "metadata": {
        "colab": {
          "base_uri": "https://localhost:8080/",
          "height": 529
        },
        "id": "rFQN9u6asRcM",
        "outputId": "5bd58001-6e3a-4619-c436-5c44c0bc1a2b"
      },
      "execution_count": null,
      "outputs": [
        {
          "output_type": "display_data",
          "data": {
            "text/plain": [
              "<Figure size 432x288 with 1 Axes>"
            ],
            "image/png": "[encoded data removed]"
          },
          "metadata": {
            "needs_background": "light"
          }
        },
        {
          "output_type": "display_data",
          "data": {
            "text/plain": [
              "<Figure size 432x288 with 1 Axes>"
            ],
            "image/png": "[encoded data removed]"
          },
          "metadata": {
            "needs_background": "light"
          }
        }
      ]
    },
    {
      "cell_type": "markdown",
      "source": [
        "## Using Bert plus CNN with Bi-directional LSTM"
      ],
      "metadata": {
        "id": "ALJErZONBlko"
      }
    },
    {
      "cell_type": "code",
      "source": [
        "input_layer1 = Input(shape=(), dtype=tf.string, name='text-layer')\n",
        "text_preprocessed = bert_preprocess_model(input_layer1)\n",
        "bert_outputs = bert_layer(text_preprocessed)\n",
        "pooled_out = bert_outputs['pooled_output']\n",
        "dropout_1 = Dropout(0.1)(pooled_out)\n",
        "bert_out = tf.keras.layers.Reshape((32,24))(dropout_1)\n",
        "    \n",
        "lstm = tf.keras.layers.Bidirectional(tf.keras.layers.LSTM(128, return_sequences=True), name='bidirectional_lstm')(bert_out)\n",
        "dropout_3 = tf.keras.layers.Dropout(0.1)(lstm)\n",
        "cnn = tf.keras.layers.Conv1D(64,5, name='convolution-layer')(dropout_3)\n",
        "\n",
        "max_pool = tf.keras.layers.MaxPooling1D(25)(cnn)\n",
        "flat = tf.keras.layers.Flatten(data_format='channels_last')(max_pool)\n",
        "\n",
        "dense1 = tf.keras.layers.Dense(128,activation='relu')(pooled_out)\n",
        "dense2 = tf.keras.layers.Dense(64,activation='relu')(dense1)\n",
        "dropout_2 = tf.keras.layers.Dropout(0.1)(dense2)\n",
        "\n",
        "concat = tf.keras.layers.Concatenate()([dropout_2,flat])\n",
        "\n",
        "output = Dense(1,activation='sigmoid')(concat)\n",
        "\n",
        "model_bert_cnn = Model(inputs=input_layer1, outputs=output)"
      ],
      "metadata": {
        "id": "ARWF8ZtpBluv"
      },
      "execution_count": 19,
      "outputs": []
    },
    {
      "cell_type": "code",
      "source": [
        "from tensorflow.keras.optimizers import SGD, Adam\n",
        "optimizer = SGD(learning_rate=0.0001, momentum=0.8)\n",
        "model_bert_cnn.compile(optimizer=optimizer, loss='binary_crossentropy', metrics=['accuracy'])\n",
        "model_bert_cnn.summary()"
      ],
      "metadata": {
        "id": "_Uat9AoH2Pm6",
        "colab": {
          "base_uri": "https://localhost:8080/"
        },
        "outputId": "9e3b6f2d-d82b-4b00-9463-59c60779e3fd"
      },
      "execution_count": 20,
      "outputs": [
        {
          "output_type": "stream",
          "name": "stdout",
          "text": [
            "Model: \"model_1\"\n",
            "__________________________________________________________________________________________________\n",
            " Layer (type)                   Output Shape         Param #     Connected to                     \n",
            "==================================================================================================\n",
            " text-layer (InputLayer)        [(None,)]            0           []                               \n",
            "                                                                                                  \n",
            " bert_preprocessing (KerasLayer  {'input_type_ids':   0          ['text-layer[0][0]']             \n",
            " )                              (None, 128),                                                      \n",
            "                                 'input_word_ids':                                                \n",
            "                                (None, 128),                                                      \n",
            "                                 'input_mask': (Non                                               \n",
            "                                e, 128)}                                                          \n",
            "                                                                                                  \n",
            " bert_layer (KerasLayer)        {'sequence_output':  109482241   ['bert_preprocessing[2][0]',     \n",
            "                                 (None, 128, 768),                'bert_preprocessing[2][1]',     \n",
            "                                 'default': (None,                'bert_preprocessing[2][2]']     \n",
            "                                768),                                                             \n",
            "                                 'pooled_output': (                                               \n",
            "                                None, 768),                                                       \n",
            "                                 'encoder_outputs':                                               \n",
            "                                 [(None, 128, 768),                                               \n",
            "                                 (None, 128, 768),                                                \n",
            "                                 (None, 128, 768),                                                \n",
            "                                 (None, 128, 768),                                                \n",
            "                                 (None, 128, 768),                                                \n",
            "                                 (None, 128, 768),                                                \n",
            "                                 (None, 128, 768),                                                \n",
            "                                 (None, 128, 768),                                                \n",
            "                                 (None, 128, 768),                                                \n",
            "                                 (None, 128, 768),                                                \n",
            "                                 (None, 128, 768),                                                \n",
            "                                 (None, 128, 768)]}                                               \n",
            "                                                                                                  \n",
            " dropout_6 (Dropout)            (None, 768)          0           ['bert_layer[2][13]']            \n",
            "                                                                                                  \n",
            " reshape_3 (Reshape)            (None, 32, 24)       0           ['dropout_6[0][0]']              \n",
            "                                                                                                  \n",
            " bidirectional_lstm (Bidirectio  (None, 32, 256)     156672      ['reshape_3[0][0]']              \n",
            " nal)                                                                                             \n",
            "                                                                                                  \n",
            " dropout_7 (Dropout)            (None, 32, 256)      0           ['bidirectional_lstm[0][0]']     \n",
            "                                                                                                  \n",
            " dense_3 (Dense)                (None, 128)          98432       ['bert_layer[2][13]']            \n",
            "                                                                                                  \n",
            " convolution-layer (Conv1D)     (None, 28, 64)       81984       ['dropout_7[0][0]']              \n",
            "                                                                                                  \n",
            " dense_4 (Dense)                (None, 64)           8256        ['dense_3[0][0]']                \n",
            "                                                                                                  \n",
            " max_pooling1d_1 (MaxPooling1D)  (None, 1, 64)       0           ['convolution-layer[0][0]']      \n",
            "                                                                                                  \n",
            " dropout_8 (Dropout)            (None, 64)           0           ['dense_4[0][0]']                \n",
            "                                                                                                  \n",
            " flatten_1 (Flatten)            (None, 64)           0           ['max_pooling1d_1[0][0]']        \n",
            "                                                                                                  \n",
            " concatenate_1 (Concatenate)    (None, 128)          0           ['dropout_8[0][0]',              \n",
            "                                                                  'flatten_1[0][0]']              \n",
            "                                                                                                  \n",
            " dense_5 (Dense)                (None, 1)            129         ['concatenate_1[0][0]']          \n",
            "                                                                                                  \n",
            "==================================================================================================\n",
            "Total params: 109,827,714\n",
            "Trainable params: 109,827,713\n",
            "Non-trainable params: 1\n",
            "__________________________________________________________________________________________________\n"
          ]
        }
      ]
    },
    {
      "cell_type": "code",
      "source": [
        "tf.keras.utils.plot_model(\n",
        "    model_bert_cnn,\n",
        "    to_file='model_bert_with_cnn.png'\n",
        ")"
      ],
      "metadata": {
        "colab": {
          "base_uri": "https://localhost:8080/",
          "height": 1000
        },
        "id": "t5Kz-p5F2lLS",
        "outputId": "2b32d64f-95b8-475b-e42c-349f7a1223df"
      },
      "execution_count": 21,
      "outputs": [
        {
          "output_type": "execute_result",
          "data": {
            "image/png": "[encoded data removed]",
            "text/plain": [
              "<IPython.core.display.Image object>"
            ]
          },
          "metadata": {},
          "execution_count": 21
        }
      ]
    },
    {
      "cell_type": "code",
      "source": [
        "model_bert_cnn_path = '/content/drive/MyDrive/Colab Notebooks/Self case study/Natutal Disaster prediction/model/best_bert_cnn_model.h5'\n",
        "\n",
        "EPOCHS = 20\n",
        "metrics2 = F1ScoreCallback((X_train, labels_train), (X_val, labels_test))\n",
        "callbacks = [\n",
        "    tf.keras.callbacks.ModelCheckpoint(model_bert_cnn_path,\n",
        "                                       monitor=\"val_accuracy\", save_best_only=True, verbose=10, mode='max'),\n",
        "    tf.keras.callbacks.ReduceLROnPlateau(monitor=\"val_loss\", factor=0.9, patience=3, verbose=10),\n",
        "    metrics2\n",
        "]\n",
        "\n",
        "history2 = model_bert_cnn.fit(\n",
        "    X_train,\n",
        "    labels_train,\n",
        "    validation_data=(X_val, labels_test),\n",
        "    epochs=EPOCHS,\n",
        "    batch_size=64,\n",
        "    callbacks=callbacks\n",
        ")"
      ],
      "metadata": {
        "colab": {
          "base_uri": "https://localhost:8080/"
        },
        "id": "nbSJbIshUW0p",
        "outputId": "6030e52d-0a51-4b03-cfea-46bad73ba69b"
      },
      "execution_count": null,
      "outputs": [
        {
          "output_type": "stream",
          "name": "stdout",
          "text": [
            "Epoch 1/20\n",
            "95/95 [==============================] - ETA: 0s - loss: 0.3805 - accuracy: 0.8475\n",
            "Epoch 1: val_accuracy improved from -inf to 0.80677, saving model to /content/drive/MyDrive/Colab Notebooks/Self case study/Natutal Disaster prediction/model/best_bert_cnn_model.h5\n",
            "\n",
            "Epoch: 1 -Training F1: 0.858122\n",
            "Epoch: 1  -Validation F1: 0.799279\n",
            "95/95 [==============================] - 215s 2s/step - loss: 0.3805 - accuracy: 0.8475 - val_loss: 0.4408 - val_accuracy: 0.8068 - lr: 1.0000e-04\n",
            "Epoch 2/20\n",
            "95/95 [==============================] - ETA: 0s - loss: 0.3719 - accuracy: 0.8542\n",
            "Epoch 2: val_accuracy improved from 0.80677 to 0.81208, saving model to /content/drive/MyDrive/Colab Notebooks/Self case study/Natutal Disaster prediction/model/best_bert_cnn_model.h5\n",
            "\n",
            "Epoch: 2 -Training F1: 0.854834\n",
            "Epoch: 2  -Validation F1: 0.806716\n",
            "95/95 [==============================] - 175s 2s/step - loss: 0.3719 - accuracy: 0.8542 - val_loss: 0.4465 - val_accuracy: 0.8121 - lr: 1.0000e-04\n",
            "Epoch 3/20\n",
            "95/95 [==============================] - ETA: 0s - loss: 0.3677 - accuracy: 0.8540\n",
            "Epoch 3: val_accuracy did not improve from 0.81208\n",
            "\n",
            "Epoch: 3 -Training F1: 0.861293\n",
            "Epoch: 3  -Validation F1: 0.804965\n",
            "95/95 [==============================] - 166s 2s/step - loss: 0.3677 - accuracy: 0.8540 - val_loss: 0.4409 - val_accuracy: 0.8114 - lr: 1.0000e-04\n",
            "Epoch 4/20\n",
            "95/95 [==============================] - ETA: 0s - loss: 0.3708 - accuracy: 0.8535\n",
            "Epoch 4: val_accuracy did not improve from 0.81208\n",
            "\n",
            "Epoch: 4 -Training F1: 0.861925\n",
            "Epoch: 4  -Validation F1: 0.804159\n",
            "95/95 [==============================] - 166s 2s/step - loss: 0.3708 - accuracy: 0.8535 - val_loss: 0.4374 - val_accuracy: 0.8114 - lr: 1.0000e-04\n",
            "Epoch 5/20\n",
            "95/95 [==============================] - ETA: 0s - loss: 0.3657 - accuracy: 0.8561\n",
            "Epoch 5: val_accuracy improved from 0.81208 to 0.81607, saving model to /content/drive/MyDrive/Colab Notebooks/Self case study/Natutal Disaster prediction/model/best_bert_cnn_model.h5\n",
            "\n",
            "Epoch: 5 -Training F1: 0.860218\n",
            "Epoch: 5  -Validation F1: 0.810814\n",
            "95/95 [==============================] - 174s 2s/step - loss: 0.3657 - accuracy: 0.8561 - val_loss: 0.4443 - val_accuracy: 0.8161 - lr: 1.0000e-04\n",
            "Epoch 6/20\n",
            "95/95 [==============================] - ETA: 0s - loss: 0.3650 - accuracy: 0.8538\n",
            "Epoch 6: val_accuracy did not improve from 0.81607\n",
            "\n",
            "Epoch: 6 -Training F1: 0.865322\n",
            "Epoch: 6  -Validation F1: 0.805062\n",
            "95/95 [==============================] - 206s 2s/step - loss: 0.3650 - accuracy: 0.8538 - val_loss: 0.4404 - val_accuracy: 0.8114 - lr: 1.0000e-04\n",
            "Epoch 7/20\n",
            "95/95 [==============================] - ETA: 0s - loss: 0.3571 - accuracy: 0.8615\n",
            "Epoch 7: val_accuracy did not improve from 0.81607\n",
            "\n",
            "Epoch 7: ReduceLROnPlateau reducing learning rate to 8.999999772640876e-05.\n",
            "\n",
            "Epoch: 7 -Training F1: 0.865419\n",
            "Epoch: 7  -Validation F1: 0.807726\n",
            "95/95 [==============================] - 166s 2s/step - loss: 0.3571 - accuracy: 0.8615 - val_loss: 0.4441 - val_accuracy: 0.8134 - lr: 1.0000e-04\n",
            "Epoch 8/20\n",
            "95/95 [==============================] - ETA: 0s - loss: 0.3590 - accuracy: 0.8600\n",
            "Epoch 8: val_accuracy did not improve from 0.81607\n",
            "\n",
            "Epoch: 8 -Training F1: 0.867613\n",
            "Epoch: 8  -Validation F1: 0.806081\n",
            "95/95 [==============================] - 176s 2s/step - loss: 0.3590 - accuracy: 0.8600 - val_loss: 0.4431 - val_accuracy: 0.8121 - lr: 9.0000e-05\n",
            "Epoch 9/20\n",
            "95/95 [==============================] - ETA: 0s - loss: 0.3509 - accuracy: 0.8651\n",
            "Epoch 9: val_accuracy did not improve from 0.81607\n",
            "\n",
            "Epoch: 9 -Training F1: 0.864704\n",
            "Epoch: 9  -Validation F1: 0.806977\n",
            "95/95 [==============================] - 166s 2s/step - loss: 0.3509 - accuracy: 0.8651 - val_loss: 0.4518 - val_accuracy: 0.8121 - lr: 9.0000e-05\n",
            "Epoch 10/20\n",
            "95/95 [==============================] - ETA: 0s - loss: 0.3516 - accuracy: 0.8645\n",
            "Epoch 10: val_accuracy did not improve from 0.81607\n",
            "\n",
            "Epoch 10: ReduceLROnPlateau reducing learning rate to 8.100000122794882e-05.\n",
            "\n",
            "Epoch: 10 -Training F1: 0.871619\n",
            "Epoch: 10  -Validation F1: 0.802143\n",
            "95/95 [==============================] - 176s 2s/step - loss: 0.3516 - accuracy: 0.8645 - val_loss: 0.4411 - val_accuracy: 0.8094 - lr: 9.0000e-05\n",
            "Epoch 11/20\n",
            "95/95 [==============================] - ETA: 0s - loss: 0.3522 - accuracy: 0.8626\n",
            "Epoch 11: val_accuracy did not improve from 0.81607\n",
            "\n",
            "Epoch: 11 -Training F1: 0.871949\n",
            "Epoch: 11  -Validation F1: 0.799553\n",
            "95/95 [==============================] - 166s 2s/step - loss: 0.3522 - accuracy: 0.8626 - val_loss: 0.4386 - val_accuracy: 0.8081 - lr: 8.1000e-05\n",
            "Epoch 12/20\n",
            "95/95 [==============================] - ETA: 0s - loss: 0.3494 - accuracy: 0.8674\n",
            "Epoch 12: val_accuracy did not improve from 0.81607\n",
            "\n",
            "Epoch: 12 -Training F1: 0.8727\n",
            "Epoch: 12  -Validation F1: 0.804424\n",
            "95/95 [==============================] - 206s 2s/step - loss: 0.3494 - accuracy: 0.8674 - val_loss: 0.4436 - val_accuracy: 0.8108 - lr: 8.1000e-05\n",
            "Epoch 13/20\n",
            "95/95 [==============================] - ETA: 0s - loss: 0.3455 - accuracy: 0.8650\n",
            "Epoch 13: val_accuracy did not improve from 0.81607\n",
            "\n",
            "Epoch 13: ReduceLROnPlateau reducing learning rate to 7.289999848580919e-05.\n",
            "\n",
            "Epoch: 13 -Training F1: 0.872803\n",
            "Epoch: 13  -Validation F1: 0.80809\n",
            "95/95 [==============================] - 166s 2s/step - loss: 0.3455 - accuracy: 0.8650 - val_loss: 0.4446 - val_accuracy: 0.8141 - lr: 8.1000e-05\n",
            "Epoch 14/20\n",
            "95/95 [==============================] - ETA: 0s - loss: 0.3429 - accuracy: 0.8674\n",
            "Epoch 14: val_accuracy did not improve from 0.81607\n",
            "\n",
            "Epoch: 14 -Training F1: 0.868109\n",
            "Epoch: 14  -Validation F1: 0.809315\n",
            "95/95 [==============================] - 176s 2s/step - loss: 0.3429 - accuracy: 0.8674 - val_loss: 0.4569 - val_accuracy: 0.8141 - lr: 7.2900e-05\n",
            "Epoch 15/20\n",
            "95/95 [==============================] - ETA: 0s - loss: 0.3418 - accuracy: 0.8691\n",
            "Epoch 15: val_accuracy did not improve from 0.81607\n",
            "\n",
            "Epoch: 15 -Training F1: 0.872846\n",
            "Epoch: 15  -Validation F1: 0.806716\n",
            "95/95 [==============================] - 165s 2s/step - loss: 0.3418 - accuracy: 0.8691 - val_loss: 0.4504 - val_accuracy: 0.8121 - lr: 7.2900e-05\n",
            "Epoch 16/20\n",
            "95/95 [==============================] - ETA: 0s - loss: 0.3392 - accuracy: 0.8689\n",
            "Epoch 16: val_accuracy did not improve from 0.81607\n",
            "\n",
            "Epoch 16: ReduceLROnPlateau reducing learning rate to 6.56100019114092e-05.\n",
            "\n",
            "Epoch: 16 -Training F1: 0.877211\n",
            "Epoch: 16  -Validation F1: 0.806044\n",
            "95/95 [==============================] - 165s 2s/step - loss: 0.3392 - accuracy: 0.8689 - val_loss: 0.4430 - val_accuracy: 0.8127 - lr: 7.2900e-05\n",
            "Epoch 17/20\n",
            "95/95 [==============================] - ETA: 0s - loss: 0.3387 - accuracy: 0.8673\n",
            "Epoch 17: val_accuracy did not improve from 0.81607\n",
            "\n",
            "Epoch: 17 -Training F1: 0.878581\n",
            "Epoch: 17  -Validation F1: 0.8057\n",
            "95/95 [==============================] - 206s 2s/step - loss: 0.3387 - accuracy: 0.8673 - val_loss: 0.4455 - val_accuracy: 0.8121 - lr: 6.5610e-05\n",
            "Epoch 18/20\n",
            "95/95 [==============================] - ETA: 0s - loss: 0.3396 - accuracy: 0.8694\n",
            "Epoch 18: val_accuracy did not improve from 0.81607\n",
            "\n",
            "Epoch: 18 -Training F1: 0.880106\n",
            "Epoch: 18  -Validation F1: 0.806044\n",
            "95/95 [==============================] - 166s 2s/step - loss: 0.3396 - accuracy: 0.8694 - val_loss: 0.4453 - val_accuracy: 0.8127 - lr: 6.5610e-05\n",
            "Epoch 19/20\n",
            "95/95 [==============================] - ETA: 0s - loss: 0.3324 - accuracy: 0.8761\n",
            "Epoch 19: val_accuracy did not improve from 0.81607\n",
            "\n",
            "Epoch 19: ReduceLROnPlateau reducing learning rate to 5.904900172026828e-05.\n",
            "\n",
            "Epoch: 19 -Training F1: 0.875914\n",
            "Epoch: 19  -Validation F1: 0.805438\n",
            "95/95 [==============================] - 165s 2s/step - loss: 0.3324 - accuracy: 0.8761 - val_loss: 0.4536 - val_accuracy: 0.8108 - lr: 6.5610e-05\n",
            "Epoch 20/20\n",
            "95/95 [==============================] - ETA: 0s - loss: 0.3334 - accuracy: 0.8744\n",
            "Epoch 20: val_accuracy did not improve from 0.81607\n",
            "\n",
            "Epoch: 20 -Training F1: 0.8818\n",
            "Epoch: 20  -Validation F1: 0.806338\n",
            "95/95 [==============================] - 206s 2s/step - loss: 0.3334 - accuracy: 0.8744 - val_loss: 0.4468 - val_accuracy: 0.8127 - lr: 5.9049e-05\n"
          ]
        }
      ]
    },
    {
      "cell_type": "code",
      "source": [
        "# model_bert_cnn.load_weights(model_bert_cnn_path)\n",
        "# model_bert_cnn.save(model_bert_cnn_path)"
      ],
      "metadata": {
        "id": "uM2kUMVyqnVT"
      },
      "execution_count": null,
      "outputs": []
    },
    {
      "cell_type": "markdown",
      "source": [
        "### Training Plots"
      ],
      "metadata": {
        "id": "WEMl2K0TUdkk"
      }
    },
    {
      "cell_type": "code",
      "source": [
        "train_f1_score = metrics2.train_f1_scores\n",
        "val_f1_score = metrics2.val_f1_scores\n",
        "\n",
        "plt.plot(range(20), history2.history['val_accuracy'], label='Val Accuracy')\n",
        "plt.plot(range(20), history2.history['accuracy'], label='Accuracy')\n",
        "plt.legend()\n",
        "plt.show()\n",
        "\n",
        "plt.plot(range(20), train_f1_score, label='Train F1 score')\n",
        "plt.plot(range(20), val_f1_score, label='Val F1 score')\n",
        "plt.title('Training plots')\n",
        "plt.legend()\n",
        "plt.show()"
      ],
      "metadata": {
        "colab": {
          "base_uri": "https://localhost:8080/",
          "height": 529
        },
        "id": "B6TYFWBBUdrF",
        "outputId": "4ac77382-226a-44db-f8ec-f976a20fa3ae"
      },
      "execution_count": null,
      "outputs": [
        {
          "output_type": "display_data",
          "data": {
            "text/plain": [
              "<Figure size 432x288 with 1 Axes>"
            ],
            "image/png": "[encoded data removed]"
          },
          "metadata": {
            "needs_background": "light"
          }
        },
        {
          "output_type": "display_data",
          "data": {
            "text/plain": [
              "<Figure size 432x288 with 1 Axes>"
            ],
            "image/png": "[encoded data removed]"
          },
          "metadata": {
            "needs_background": "light"
          }
        }
      ]
    },
    {
      "cell_type": "markdown",
      "source": [
        "### Predict on test data"
      ],
      "metadata": {
        "id": "12otb2s0AIcN"
      }
    },
    {
      "cell_type": "code",
      "source": [
        "predicted_df = test_df.copy()\n",
        "predicted_target = model3.predict(predicted_df['text'])\n",
        "predicted_df['pred_prob'] = predicted_target"
      ],
      "metadata": {
        "id": "IbL3jwgeAIcO"
      },
      "execution_count": null,
      "outputs": []
    },
    {
      "cell_type": "code",
      "source": [
        "predicted_df['target'] = predicted_df['pred_prob'].apply(lambda x: x > 0.5).astype(int)\n",
        "predicted_df = predicted_df.drop(['keyword', 'location', 'text', 'pred_prob'], axis=1)\n",
        "predicted_df.head()"
      ],
      "metadata": {
        "colab": {
          "base_uri": "https://localhost:8080/",
          "height": 206
        },
        "outputId": "3cb0582e-03ec-4565-beab-1dbe782c0958",
        "id": "HOZW1fx4AIcO"
      },
      "execution_count": null,
      "outputs": [
        {
          "output_type": "execute_result",
          "data": {
            "text/plain": [
              "   id  target\n",
              "0   0       1\n",
              "1   2       1\n",
              "2   3       1\n",
              "3   9       1\n",
              "4  11       1"
            ],
            "text/html": [
              "\n",
              "  <div id=\"df-a02dbb2c-34ac-4cef-b755-86645573fa1b\">\n",
              "    <div class=\"colab-df-container\">\n",
              "      <div>\n",
              "<style scoped>\n",
              "    .dataframe tbody tr th:only-of-type {\n",
              "        vertical-align: middle;\n",
              "    }\n",
              "\n",
              "    .dataframe tbody tr th {\n",
              "        vertical-align: top;\n",
              "    }\n",
              "\n",
              "    .dataframe thead th {\n",
              "        text-align: right;\n",
              "    }\n",
              "</style>\n",
              "<table border=\"1\" class=\"dataframe\">\n",
              "  <thead>\n",
              "    <tr style=\"text-align: right;\">\n",
              "      <th></th>\n",
              "      <th>id</th>\n",
              "      <th>target</th>\n",
              "    </tr>\n",
              "  </thead>\n",
              "  <tbody>\n",
              "    <tr>\n",
              "      <th>0</th>\n",
              "      <td>0</td>\n",
              "      <td>1</td>\n",
              "    </tr>\n",
              "    <tr>\n",
              "      <th>1</th>\n",
              "      <td>2</td>\n",
              "      <td>1</td>\n",
              "    </tr>\n",
              "    <tr>\n",
              "      <th>2</th>\n",
              "      <td>3</td>\n",
              "      <td>1</td>\n",
              "    </tr>\n",
              "    <tr>\n",
              "      <th>3</th>\n",
              "      <td>9</td>\n",
              "      <td>1</td>\n",
              "    </tr>\n",
              "    <tr>\n",
              "      <th>4</th>\n",
              "      <td>11</td>\n",
              "      <td>1</td>\n",
              "    </tr>\n",
              "  </tbody>\n",
              "</table>\n",
              "</div>\n",
              "      <button class=\"colab-df-convert\" onclick=\"convertToInteractive('df-a02dbb2c-34ac-4cef-b755-86645573fa1b')\"\n",
              "              title=\"Convert this dataframe to an interactive table.\"\n",
              "              style=\"display:none;\">\n",
              "        \n",
              "  <svg xmlns=\"http://www.w3.org/2000/svg\" height=\"24px\"viewBox=\"0 0 24 24\"\n",
              "       width=\"24px\">\n",
              "    <path d=\"M0 0h24v24H0V0z\" fill=\"none\"/>\n",
              "    <path d=\"M18.56 5.44l.94 2.06.94-2.06 2.06-.94-2.06-.94-.94-2.06-.94 2.06-2.06.94zm-11 1L8.5 8.5l.94-2.06 2.06-.94-2.06-.94L8.5 2.5l-.94 2.06-2.06.94zm10 10l.94 2.06.94-2.06 2.06-.94-2.06-.94-.94-2.06-.94 2.06-2.06.94z\"/><path d=\"M17.41 7.96l-1.37-1.37c-.4-.4-.92-.59-1.43-.59-.52 0-1.04.2-1.43.59L10.3 9.45l-7.72 7.72c-.78.78-.78 2.05 0 2.83L4 21.41c.39.39.9.59 1.41.59.51 0 1.02-.2 1.41-.59l7.78-7.78 2.81-2.81c.8-.78.8-2.07 0-2.86zM5.41 20L4 18.59l7.72-7.72 1.47 1.35L5.41 20z\"/>\n",
              "  </svg>\n",
              "      </button>\n",
              "      \n",
              "  <style>\n",
              "    .colab-df-container {\n",
              "      display:flex;\n",
              "      flex-wrap:wrap;\n",
              "      gap: 12px;\n",
              "    }\n",
              "\n",
              "    .colab-df-convert {\n",
              "      background-color: #E8F0FE;\n",
              "      border: none;\n",
              "      border-radius: 50%;\n",
              "      cursor: pointer;\n",
              "      display: none;\n",
              "      fill: #1967D2;\n",
              "      height: 32px;\n",
              "      padding: 0 0 0 0;\n",
              "      width: 32px;\n",
              "    }\n",
              "\n",
              "    .colab-df-convert:hover {\n",
              "      background-color: #E2EBFA;\n",
              "      box-shadow: 0px 1px 2px rgba(60, 64, 67, 0.3), 0px 1px 3px 1px rgba(60, 64, 67, 0.15);\n",
              "      fill: #174EA6;\n",
              "    }\n",
              "\n",
              "    [theme=dark] .colab-df-convert {\n",
              "      background-color: #3B4455;\n",
              "      fill: #D2E3FC;\n",
              "    }\n",
              "\n",
              "    [theme=dark] .colab-df-convert:hover {\n",
              "      background-color: #434B5C;\n",
              "      box-shadow: 0px 1px 3px 1px rgba(0, 0, 0, 0.15);\n",
              "      filter: drop-shadow(0px 1px 2px rgba(0, 0, 0, 0.3));\n",
              "      fill: #FFFFFF;\n",
              "    }\n",
              "  </style>\n",
              "\n",
              "      <script>\n",
              "        const buttonEl =\n",
              "          document.querySelector('#df-a02dbb2c-34ac-4cef-b755-86645573fa1b button.colab-df-convert');\n",
              "        buttonEl.style.display =\n",
              "          google.colab.kernel.accessAllowed ? 'block' : 'none';\n",
              "\n",
              "        async function convertToInteractive(key) {\n",
              "          const element = document.querySelector('#df-a02dbb2c-34ac-4cef-b755-86645573fa1b');\n",
              "          const dataTable =\n",
              "            await google.colab.kernel.invokeFunction('convertToInteractive',\n",
              "                                                     [key], {});\n",
              "          if (!dataTable) return;\n",
              "\n",
              "          const docLinkHtml = 'Like what you see? Visit the ' +\n",
              "            '<a target=\"_blank\" href=https://colab.research.google.com/notebooks/data_table.ipynb>data table notebook</a>'\n",
              "            + ' to learn more about interactive tables.';\n",
              "          element.innerHTML = '';\n",
              "          dataTable['output_type'] = 'display_data';\n",
              "          await google.colab.output.renderOutput(dataTable, element);\n",
              "          const docLink = document.createElement('div');\n",
              "          docLink.innerHTML = docLinkHtml;\n",
              "          element.appendChild(docLink);\n",
              "        }\n",
              "      </script>\n",
              "    </div>\n",
              "  </div>\n",
              "  "
            ]
          },
          "metadata": {},
          "execution_count": 102
        }
      ]
    },
    {
      "cell_type": "code",
      "source": [
        "predicted_df.to_csv('submission_bert_cnn.csv', index=False)"
      ],
      "metadata": {
        "id": "PY6rcm5yAIcO"
      },
      "execution_count": null,
      "outputs": []
    },
    {
      "cell_type": "markdown",
      "source": [
        "# Obeservations"
      ],
      "metadata": {
        "id": "X1Bt7MQF-yzB"
      }
    },
    {
      "cell_type": "markdown",
      "source": [
        "<h3>We tried with 2 different models, model names and their corresponding F1 score are listed below</h3>\n",
        "\n",
        "\n"
      ],
      "metadata": {
        "id": "vvFvCbdz-2lj"
      }
    },
    {
      "cell_type": "code",
      "source": [
        "from prettytable import PrettyTable\n",
        "  \n",
        "# Specify the Column Names while initializing the Table\n",
        "myTable = PrettyTable([\"Model Name\", \"Train F1 score\", \"Validation F1 score\", \"Train Accuracy\", \"Validation Accuracy\"])\n",
        "  \n",
        "# Add rows\n",
        "myTable.add_row([\"DNN with BERT\", \"0.87501\", \"0.823729\", \"0.8646\", \"0.83068\"])\n",
        "myTable.add_row([\"DNN with USE\", \"0.875776\", \"0.812933\", \"0.8773\", \"0.82271\"])\n",
        "\n",
        "myTable.add_row([\"DNN with CNN Plus Bidirectional LSTM\", \"0.97468\", \"0.753248\", \"0.9841\", \"0.7656\"])\n",
        "myTable.add_row([\"DNN with Bert encoding and CNN Plus Bidirectional LSTM\", \"0.843278\", \"0.823108\", \"0.8279\", \"0.82802\"])\n",
        "  \n",
        "print(myTable)"
      ],
      "metadata": {
        "id": "TyGFvpBG_fbT",
        "colab": {
          "base_uri": "https://localhost:8080/"
        },
        "outputId": "c9cf8c2c-b643-4b33-b8e5-da5d8a2badf1"
      },
      "execution_count": null,
      "outputs": [
        {
          "output_type": "stream",
          "name": "stdout",
          "text": [
            "+--------------------------------------------------------+----------------+---------------------+----------------+---------------------+\n",
            "|                       Model Name                       | Train F1 score | Validation F1 score | Train Accuracy | Validation Accuracy |\n",
            "+--------------------------------------------------------+----------------+---------------------+----------------+---------------------+\n",
            "|                     DNN with BERT                      |    0.87501     |       0.823729      |     0.8646     |       0.83068       |\n",
            "|                      DNN with USE                      |    0.875776    |       0.812933      |     0.8773     |       0.82271       |\n",
            "|          DNN with CNN Plus Bidirectional LSTM          |    0.97468     |       0.753248      |     0.9841     |        0.7656       |\n",
            "| DNN with Bert encoding and CNN Plus Bidirectional LSTM |    0.843278    |       0.823108      |     0.8279     |       0.82802       |\n",
            "+--------------------------------------------------------+----------------+---------------------+----------------+---------------------+\n"
          ]
        }
      ]
    }
  ]
}